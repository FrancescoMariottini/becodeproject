{
 "cells": [
  {
   "cell_type": "markdown",
   "metadata": {},
   "source": [
    "### Below block defines the function for getting a number of search results from immoweb."
   ]
  },
  {
   "cell_type": "code",
   "execution_count": 22,
   "metadata": {
    "tags": []
   },
   "outputs": [],
   "source": [
    "from bs4 import BeautifulSoup\n",
    "import selenium\n",
    "from selenium import webdriver\n",
    "from selenium.webdriver.common.keys import Keys\n",
    "import time\n",
    "import random\n",
    "from random import randint\n",
    "import re\n",
    "\n",
    "def get_search_results(minresults=40):\n",
    "    \"\"\"Collect property urls and types by going through the search result pages of new houses and appartments,\n",
    "    stopping when having reached the minimum number of results and returning a dictionary of {'url1':True/False, 'url2':True/False, ...}.\n",
    "    True means house. False means apartment. Without argument only the first page is collected (~60 results)\"\"\"\n",
    "    # initialise the dictionary with the results\n",
    "    search_results = {}\n",
    "    # initialise the running result count\n",
    "    result_count = 0\n",
    "    # set on which page to start the search\n",
    "    page_number = 1\n",
    "    # initialise the webdriver globally for use inside the subroutine\n",
    "    global driver\n",
    "    driver = webdriver.Chrome()\n",
    "    driver.implicitly_wait(10)\n",
    "    \n",
    "    # start the loop    \n",
    "    while result_count < minresults:\n",
    "        # for each loop, scrape one results page of houses and one of appartments\n",
    "        # the results are added if they are not there yet\n",
    "        for houselink in results_page_scrape(page_number,\"house\"):\n",
    "            if houselink not in search_results:\n",
    "                search_results[houselink] = True\n",
    "        for apartmentlink in results_page_scrape(page_number,\"apartment\"):\n",
    "            if apartmentlink not in search_results:\n",
    "                search_results[apartmentlink] = False\n",
    "        result_count = len(search_results)\n",
    "        page_number += 1\n",
    "    \n",
    "    driver.close()\n",
    "    \n",
    "    return search_results\n",
    "\n",
    "def results_page_scrape(page_number,property_type):\n",
    "    '''A subroutine scraping links from 1 specific search result page, links to projects are ignored'''\n",
    "    # initialise the return\n",
    "    links = []\n",
    "    # I slow down the frequency of requests to avoid being identified and therefore ban from the site\n",
    "    time.sleep(random.uniform(1.0, 2.0))\n",
    "    url=f'https://www.immoweb.be/en/search/{property_type}/for-sale?countries=BE&isALifeAnnuitySale=false&page={page_number}&orderBy=newest'\n",
    "    driver.get(url)\n",
    "    html = driver.page_source\n",
    "    soup = BeautifulSoup(html,'lxml')\n",
    "    \n",
    "    for elem in soup.find_all('a', attrs={\"class\":\"card__title-link\"}):\n",
    "        # get hyperlink to property page\n",
    "        hyperlink = elem.get('href')\n",
    "        # include in the return if it is not a -project-\n",
    "        if \"-project-\" not in hyperlink:\n",
    "            # cut the searchID off\n",
    "            hyperlink = re.match(\"(.+)\\?searchId=.+\", hyperlink).group(1)\n",
    "            links.append(hyperlink)\n",
    "            \n",
    "    return links"
   ]
  },
  {
   "cell_type": "markdown",
   "metadata": {},
   "source": [
    "### Getting 12K results would take about 1 hour.\n",
    "#### Lets run the default 120 for testing:"
   ]
  },
  {
   "cell_type": "code",
   "execution_count": 23,
   "metadata": {},
   "outputs": [
    {
     "data": {
      "text/plain": [
       "{'https://www.immoweb.be/en/classified/house/for-sale/merelbeke/9820/8956339': True,\n",
       " 'https://www.immoweb.be/en/classified/mixed-use-building/for-sale/kruisem/9770/8956334': True,\n",
       " 'https://www.immoweb.be/en/classified/mixed-use-building/for-sale/beclers/7532/8956333': True,\n",
       " 'https://www.immoweb.be/en/classified/house/for-sale/wevelgem/8560/8956325': True,\n",
       " 'https://www.immoweb.be/en/classified/house/for-sale/grosage/7950/8956322': True,\n",
       " 'https://www.immoweb.be/en/classified/house/for-sale/papignies/7861/8956321': True,\n",
       " 'https://www.immoweb.be/en/classified/house/for-sale/meslin-leveque/7822/8956320': True,\n",
       " 'https://www.immoweb.be/en/classified/house/for-sale/isieres/7822/8956319': True,\n",
       " 'https://www.immoweb.be/en/classified/house/for-sale/horrues/7060/8956318': True,\n",
       " 'https://www.immoweb.be/en/classified/house/for-sale/horrues/7060/8956317': True,\n",
       " 'https://www.immoweb.be/en/classified/house/for-sale/chapelle-a-wattines/7903/8956316': True,\n",
       " 'https://www.immoweb.be/en/classified/house/for-sale/eeklo/9900/8956313': True,\n",
       " 'https://www.immoweb.be/en/classified/villa/for-sale/deurle/9831/8956306': True,\n",
       " 'https://www.immoweb.be/en/classified/mixed-use-building/for-sale/gavere/9890/8956304': True,\n",
       " 'https://www.immoweb.be/en/classified/house/for-sale/zwijnaarde/9052/8956288': True,\n",
       " 'https://www.immoweb.be/en/classified/villa/for-sale/duinbergen/8301/8956287': True,\n",
       " 'https://www.immoweb.be/en/classified/villa/for-sale/middelburg/9992/8956286': True,\n",
       " 'https://www.immoweb.be/en/classified/house/for-sale/rixensart/1330/8934729': True,\n",
       " 'https://www.immoweb.be/en/classified/house/for-sale/boom/2850/8784532': True,\n",
       " 'https://www.immoweb.be/en/classified/house/for-sale/kanegem/8700/8956269': True,\n",
       " 'https://www.immoweb.be/en/classified/house/for-sale/jemappes/7012/8956268': True,\n",
       " 'https://www.immoweb.be/en/classified/mansion/for-sale/schoten/2900/8866796': True,\n",
       " 'https://www.immoweb.be/en/classified/house/for-sale/vosselaar/2350/8956259': True,\n",
       " 'https://www.immoweb.be/en/classified/mixed-use-building/for-sale/quaregnon/7390/8956266': True,\n",
       " 'https://www.immoweb.be/en/classified/house/for-sale/morlanwelz-mariemont/7140/8920070': True,\n",
       " 'https://www.immoweb.be/en/classified/house/for-sale/bilzen/3740/8865010': True,\n",
       " 'https://www.immoweb.be/en/classified/house/for-sale/dormaal/3440/8923412': True,\n",
       " 'https://www.immoweb.be/en/classified/apartment-block/for-sale/zeebrugge/8380/8956248': True,\n",
       " 'https://www.immoweb.be/en/classified/apartment-block/for-sale/zeebrugge/8380/8956247': True,\n",
       " 'https://www.immoweb.be/en/classified/house/for-sale/kortrijk/8500/8956246': True,\n",
       " 'https://www.immoweb.be/en/classified/apartment/for-sale/oostende/8400/8844368': False,\n",
       " 'https://www.immoweb.be/en/classified/apartment/for-sale/izegem/8870/8956315': False,\n",
       " 'https://www.immoweb.be/en/classified/apartment/for-sale/eeklo/9900/8956314': False,\n",
       " 'https://www.immoweb.be/en/classified/apartment/for-sale/vilvoorde/1800/8956307': False,\n",
       " 'https://www.immoweb.be/en/classified/apartment/for-sale/jette/1090/8955935': False,\n",
       " 'https://www.immoweb.be/en/classified/apartment/for-sale/gent/9000/8956305': False,\n",
       " 'https://www.immoweb.be/en/classified/penthouse/for-sale/rumst/2840/8956285': False,\n",
       " 'https://www.immoweb.be/en/classified/apartment/for-sale/knokke/8300/8956284': False,\n",
       " 'https://www.immoweb.be/en/classified/apartment/for-sale/knokke/8300/8956283': False,\n",
       " 'https://www.immoweb.be/en/classified/apartment/for-sale/knokke/8300/8956282': False,\n",
       " 'https://www.immoweb.be/en/classified/apartment/for-sale/oostende/8400/8956272': False,\n",
       " 'https://www.immoweb.be/en/classified/apartment/for-sale/strombeek-bever/1853/8956271': False,\n",
       " 'https://www.immoweb.be/en/classified/apartment/for-sale/lier/2500/8916480': False,\n",
       " 'https://www.immoweb.be/en/classified/apartment/for-sale/uccle/1180/8956270': False,\n",
       " 'https://www.immoweb.be/en/classified/apartment/for-sale/edegem/2650/8956265': False,\n",
       " 'https://www.immoweb.be/en/classified/duplex/for-sale/woluwe-saint-lambert/1200/8956263': False,\n",
       " 'https://www.immoweb.be/en/classified/duplex/for-sale/woluwe-saint-lambert/1200/8956262': False,\n",
       " 'https://www.immoweb.be/en/classified/apartment/for-sale/woluwe-saint-lambert/1200/8956261': False,\n",
       " 'https://www.immoweb.be/en/classified/apartment/for-sale/brussels/1000/8956240': False,\n",
       " 'https://www.immoweb.be/en/classified/apartment/for-sale/antwerp-2/2020/8956235': False,\n",
       " 'https://www.immoweb.be/en/classified/apartment/for-sale/verviers/4800/8956226': False,\n",
       " 'https://www.immoweb.be/en/classified/apartment/for-sale/ieper/8900/8956224': False,\n",
       " 'https://www.immoweb.be/en/classified/apartment/for-sale/oostende/8400/8956221': False,\n",
       " 'https://www.immoweb.be/en/classified/apartment/for-sale/oostende/8400/8956220': False,\n",
       " 'https://www.immoweb.be/en/classified/apartment/for-sale/oostende/8400/8956195': False,\n",
       " 'https://www.immoweb.be/en/classified/apartment/for-sale/wenduine/8420/8828956': False,\n",
       " 'https://www.immoweb.be/en/classified/apartment/for-sale/antwerp/2140/8956194': False,\n",
       " 'https://www.immoweb.be/en/classified/apartment/for-sale/oostende/8400/8956193': False,\n",
       " 'https://www.immoweb.be/en/classified/penthouse/for-sale/knokke/8300/8956192': False}"
      ]
     },
     "execution_count": 23,
     "metadata": {},
     "output_type": "execute_result"
    }
   ],
   "source": [
    "get_search_results()"
   ]
  },
  {
   "cell_type": "code",
   "execution_count": null,
   "metadata": {},
   "outputs": [],
   "source": []
  }
 ],
 "metadata": {
  "kernelspec": {
   "display_name": "Python 3",
   "language": "python",
   "name": "python3"
  },
  "language_info": {
   "codemirror_mode": {
    "name": "ipython",
    "version": 3
   },
   "file_extension": ".py",
   "mimetype": "text/x-python",
   "name": "python",
   "nbconvert_exporter": "python",
   "pygments_lexer": "ipython3",
   "version": "3.6.9"
  }
 },
 "nbformat": 4,
 "nbformat_minor": 2
}
