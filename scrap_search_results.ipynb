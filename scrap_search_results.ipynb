{
 "cells": [
  {
   "cell_type": "markdown",
   "metadata": {},
   "source": [
    "## scrap_list\n",
    "\n",
    "Main public function to scrap a list of urls.<br>\n",
    "dict_urls : dictionnary with urls(string) as key and is_house(bool) as value<br>\n",
    "Returns a dictionnary compatible with the dataframe model<br>\n",
    "\n",
    "## scrap\n",
    "\n",
    "Private function to scrap a specific url.<br>\n",
    "url : url string <br>\n",
    "is_house : bit indicating wheter the estate is a house or an appartment<br>\n",
    "Returns a dictionnary with the propery name as key and it's value as value.<br>\n",
    "\n",
    "## get_property_value\n",
    "\n",
    "Private function to scrap a specific property with to get an expected value.<br>\n",
    "soup : BeautifulSoup object with the html data <br>\n",
    "name : name of the property on the website <br>\n",
    "Returns a value for the requested property or None if there is no value.\n",
    "\n",
    "## get_property_bool\n",
    "\n",
    "Private unction to scrap a specific property to get Boolean.<br>\n",
    "soup : BeautifulSoup object with the html data <br>\n",
    "name : name of the property on the website <br>\n",
    "Returns a boolean for the requested property.\n",
    "\n",
    "    "
   ]
  },
  {
   "cell_type": "code",
   "execution_count": 37,
   "metadata": {
    "tags": []
   },
   "outputs": [
    {
     "name": "stderr",
     "output_type": "stream",
     "text": [
      "/usr/lib/python3/dist-packages/requests/__init__.py:80: RequestsDependencyWarning: urllib3 (1.25.10) or chardet (3.0.4) doesn't match a supported version!\n",
      "  RequestsDependencyWarning)\n"
     ]
    },
    {
     "name": "stdout",
     "text": "{'hyperlink': 'https://www.immoweb.be/en/classified/apartment/for-sale/auderghem/1160/8899851?searchId=5f6c49990b1b6', 'locality': 'auderghem', 'postcode': '1160', 'house_is': False, 'property_subtype': 'apartment', 'price': 380000, 'sale': '', 'rooms_number': '2', 'area': '87', 'kitchen_has': True, 'furnished': False, 'open_fire': False, 'terrace': True, 'terrace_area': '13', 'garden': False, 'garden_area': None, 'land_surface': None, 'land_plot_surface': None, 'facades_number': '2', 'swimming_pool_has': False}\n"
    }
   ],
   "source": [
    "from bs4 import BeautifulSoup \n",
    "import re \n",
    "import requests\n",
    "\n",
    "def get_property_value(soup, name):\n",
    "\n",
    "    \n",
    "    #Looks into every row of the tables\n",
    "    for elem in soup.find_all('tr'):\n",
    "        #If it finds an element with text equals to property name it will return it's equivalent value\n",
    "         if elem.th and re.search(name, str(elem.th.string)):\n",
    "            if name == \"Price\":              \n",
    "                for descendant in elem.td.descendants:\n",
    "                    if re.search(\"(\\d{5,})\\s€\", str(descendant)):\n",
    "                        return int(re.search(\"(\\d{5,})\\s€\", str(descendant))[1])\n",
    "            else:\n",
    "                return elem.td.contents[0].strip()\n",
    "    #If nothing was found, will return None \n",
    "    return None\n",
    "\n",
    "def get_property_bool(soup, name):\n",
    "    #Looks into every row of the tables\n",
    "    for elem in soup.find_all('tr'):\n",
    "        #If it finds an element with text equals to property name it will return true\n",
    "        if elem.th and re.search(name, str(elem.th.string)):\n",
    "            return True\n",
    "    #If nothing was found, will return false\n",
    "    return False\n",
    "\n",
    "\n",
    "def scrap_list(dict_urls): \n",
    "    #listing all the property names\n",
    "    properties = [\"hyperlink\" ,\"locality\", \"postcode\", \"house_is\", \"property_subtype\",\t\"price\", \"sale\", \"rooms_number\", \"area\", \"kitchen_has\", \"furnished\",\t\"open_fire\", \"terrace\", \"terrace_area\", \"garden\", \"garden_area\", \"land_surface\", \"land_plot_surface\", \"facades_number\", \"swimming_pool_has\"]\n",
    "\n",
    "\n",
    "\n",
    "    #making a dict with all the property names as key and an empty list as value\n",
    "    dict_dataframe = {}\n",
    "    for property_name in properties:\n",
    "        dict_dataframe[property_name] = []\n",
    "\n",
    "    #scrap each url of the input and put the result into a variable\n",
    "    for key in dict_urls: \n",
    "        dict_result_scrapping = scrap(key, dict_urls[key])\n",
    "\n",
    "        #for each property (key) of the scrapping out put, match it with dataframe property. If none exist, just use None\n",
    "        for key1 in dict_dataframe:\n",
    "            dict_dataframe[key1].append(dict_result_scrapping.get(key1, False) or None)            \n",
    "    \n",
    "    return dict_dataframe\n",
    "\n",
    "def scrap(url, is_house): \n",
    "    dictionary = {} \n",
    "    r = requests.get(url) \n",
    "    soup = BeautifulSoup(r.content,'html.parser')     \n",
    "\n",
    "    #for every property, call the right function to get the needed data\n",
    "    dictionary[\"hyperlink\"] = url\n",
    "    dictionary[\"locality\"] = url.split(\"/\")[7]\n",
    "    dictionary[\"postcode\"] = url.split(\"/\")[8]\n",
    "    dictionary['house_is'] = is_house\n",
    "    dictionary['property_subtype'] = url.split(\"/\")[5]   \n",
    "    dictionary['price'] = get_property_value(soup, \"Price\")     \n",
    "    dictionary['sale'] = ''\n",
    "    dictionary['rooms_number'] = get_property_value(soup, 'Bedrooms')\n",
    "    dictionary['area'] = get_property_value(soup, 'Living area')\n",
    "    dictionary['kitchen_has'] = get_property_bool(soup, 'Kitchen type')\n",
    "    dictionary['furnished'] = get_property_bool(soup, 'Furnished')\n",
    "    dictionary['open_fire'] = get_property_bool(soup, 'Fireplace')\n",
    "    dictionary['terrace'] = get_property_bool(soup, 'Terrace')\n",
    "    dictionary['terrace_area'] = get_property_value(soup, 'Terrace surface')\n",
    "    dictionary['garden'] = get_property_bool(soup, 'Garden')\n",
    "    dictionary['garden_area'] = get_property_value(soup, 'Garden surface')\n",
    "    dictionary['land_surface'] = None\n",
    "    dictionary['land_plot_surface'] = None\n",
    "    dictionary['facades_number'] = get_property_value(soup, 'Facades')\n",
    "    dictionary['swimming_pool_has'] = get_property_bool(soup, 'Swimming pool')\n",
    "    \n",
    "    return dictionary\n",
    "\n",
    "print(scrap(\"https://www.immoweb.be/en/classified/apartment/for-sale/auderghem/1160/8899851?searchId=5f6c49990b1b6\", False))"
   ]
  },
  {
   "cell_type": "code",
   "execution_count": 36,
   "metadata": {
    "tags": [
     "outputPrepend"
    ]
   },
   "outputs": [
    {
     "output_type": "stream",
     "name": "stdout",
     "text": "data\">1</td>\n</tr>\n</tbody>\n</table>\n</template>\n</iw-accordion>\n</div>\n</div>\n</div>\n</div>\n<!-- PUBLIC SALE SECTION -->\n<!-- INTERIOR SECTION -->\n<div class=\"text-block\">\n<div class=\"grid\">\n<div class=\"grid__item desktop--6\">\n<div class=\"text-block__body\">\n<iw-accordion :heading-level=\"3\" class=\"accordion--section\" type=\"section\">\n<template slot=\"toggler\">Interior</template>\n<template slot=\"content\">\n<table class=\"classified-table\">\n<tbody class=\"classified-table__body\">\n<tr class=\"classified-table__row\">\n<th class=\"classified-table__header\" scope=\"row\">\n                                    Living area\n                                </th>\n<td class=\"classified-table__data\">\n                                    87\n\n                                    <span class=\"abbreviation\">\n<span aria-hidden=\"true\">\n                                            m²                                        </span>\n<span class=\"sr-only\">\n                                            square meters\n                                        </span>\n</span>\n</td>\n</tr>\n<tr class=\"classified-table__row\">\n<th class=\"classified-table__header\" scope=\"row\">Living room surface</th>\n<td class=\"classified-table__data\">\n                                    30\n\n                                    <span class=\"abbreviation\">\n<span aria-hidden=\"true\">\n                                            m²                                        </span>\n<span class=\"sr-only\">\n                                            square meters\n                                        </span>\n</span>\n</td>\n</tr>\n<tr class=\"classified-table__row\">\n<th class=\"classified-table__header\" scope=\"row\">Kitchen type</th>\n<td class=\"classified-table__data\">\n                                    Hyper equipped\n                                </td>\n</tr>\n<tr class=\"classified-table__row\">\n<th class=\"classified-table__header\" scope=\"row\">Bedrooms</th>\n<td class=\"classified-table__data\">2</td>\n</tr>\n<tr class=\"classified-table__row\">\n<th class=\"classified-table__header\" scope=\"row\">\n                                        Bedroom 1 surface\n                                    </th>\n<td class=\"classified-table__data\">\n                                        14\n\n                                        <span class=\"abbreviation\">\n<span aria-hidden=\"true\">\n                                                m²                                            </span>\n<span class=\"sr-only\">\n                                                square meters\n                                            </span>\n</span>\n</td>\n</tr>\n<tr class=\"classified-table__row\">\n<th class=\"classified-table__header\" scope=\"row\">\n                                        Bedroom 2 surface\n                                    </th>\n<td class=\"classified-table__data\">\n                                        10\n\n                                        <span class=\"abbreviation\">\n<span aria-hidden=\"true\">\n                                                m²                                            </span>\n<span class=\"sr-only\">\n                                                square meters\n                                            </span>\n</span>\n</td>\n</tr>\n<tr class=\"classified-table__row\">\n<th class=\"classified-table__header\" scope=\"row\">Bathrooms</th>\n<td class=\"classified-table__data\">1</td>\n</tr>\n<tr class=\"classified-table__row\">\n<th class=\"classified-table__header\" scope=\"row\">Shower rooms</th>\n<td class=\"classified-table__data\">1</td>\n</tr>\n<tr class=\"classified-table__row\">\n<th class=\"classified-table__header\" scope=\"row\">Toilets</th>\n<td class=\"classified-table__data\">2</td>\n</tr>\n<tr class=\"classified-table__row\">\n<th class=\"classified-table__header\" scope=\"row\">Basement</th>\n<td class=\"classified-table__data\">Yes\n                                </td>\n</tr>\n<tr class=\"classified-table__row\">\n<th class=\"classified-table__header\" scope=\"row\">Armored door</th>\n<td class=\"classified-table__data\">Yes\n                                </td>\n</tr>\n</tbody>\n</table>\n</template>\n</iw-accordion>\n</div>\n</div>\n</div>\n</div>\n<!-- EXTERIOR SECTION -->\n<div class=\"text-block\">\n<div class=\"grid\">\n<div class=\"grid__item desktop--6\">\n<div class=\"text-block__body\">\n<iw-accordion :heading-level=\"3\" class=\"accordion--section\" type=\"section\">\n<template slot=\"toggler\">Exterior</template>\n<template slot=\"content\">\n<table class=\"classified-table\">\n<tbody class=\"classified-table__body\">\n<tr class=\"classified-table__row\">\n<th class=\"classified-table__header\" scope=\"row\">Terrace surface</th>\n<td class=\"classified-table__data\">\n                                    13\n\n                                    <span class=\"abbreviation\">\n<span aria-hidden=\"true\">\n                                            m²\n                                        </span>\n<span class=\"sr-only\">\n                                            square meters\n                                        </span>\n</span>\n</td>\n</tr>\n</tbody>\n</table>\n</template>\n</iw-accordion>\n</div>\n</div>\n</div>\n</div>\n<!-- FACILITIES SECTION -->\n<div class=\"text-block\">\n<div class=\"grid\">\n<div class=\"grid__item desktop--6\">\n<div class=\"text-block__body\">\n<iw-accordion :heading-level=\"3\" class=\"accordion--section\" type=\"section\">\n<template slot=\"toggler\">Facilities</template>\n<template slot=\"content\">\n<table class=\"classified-table\">\n<tbody class=\"classified-table__body\">\n<tr>\n<th class=\"classified-table__header\" scope=\"row\">\n                                    Elevator\n                                </th>\n<td class=\"classified-table__data\">\n                                    Yes\n                                </td>\n</tr>\n<tr>\n<th class=\"classified-table__header\" scope=\"row\">\n                                    Disabled access\n                                </th>\n<td class=\"classified-table__data\">\n                                    Yes\n                                </td>\n</tr>\n<tr>\n<th class=\"classified-table__header\" scope=\"row\">\n                                    Intercom\n                                </th>\n<td class=\"classified-table__data\">\n                                    Yes\n                                </td>\n</tr>\n<tr>\n<th class=\"classified-table__header\" scope=\"row\">\n                                    Armored door\n                                </th>\n<td class=\"classified-table__data\">\n                                    Yes\n                                </td>\n</tr>\n<tr>\n<th class=\"classified-table__header\" scope=\"row\">\n                                    Visio phone\n                                </th>\n<td class=\"classified-table__data\">\n                                    Yes\n                                </td>\n</tr>\n</tbody>\n</table>\n</template>\n</iw-accordion>\n</div>\n</div>\n</div>\n</div>\n<!-- ENERGY SECTION -->\n<div class=\"text-block\">\n<div class=\"grid\">\n<div class=\"grid__item desktop--6\">\n<div class=\"text-block__body\">\n<iw-accordion :heading-level=\"3\" class=\"accordion--section\" type=\"section\">\n<template slot=\"toggler\">\n                        Energy\n                    </template>\n<template slot=\"content\">\n<table class=\"classified-table\">\n<tbody class=\"classified-table__body\">\n<tr class=\"classified-table__row\">\n<th class=\"classified-table__header\" scope=\"row\">Primary energy consumption</th>\n<td class=\"classified-table__data\">\n                                    \n                                        87\n\n                                        <span class=\"abbreviation\">\n<span aria-hidden=\"true\">\n                                         kWh/m²\n                                    </span>\n<span class=\"sr-only\">\n                                        kilowatt hour per square meters\n                                    </span>\n</span>\n</td>\n</tr>\n<tr class=\"classified-table__row\">\n<th class=\"classified-table__header\" scope=\"row\">Energy class</th>\n<td class=\"classified-table__data\">\n                                                                    B\n                                                            </td>\n</tr>\n<tr aria-hidden=\"true\" class=\"classified-table__row\">\n<th colspan=\"2\">\n<img alt=\"\" class=\"classified-table__picture\" src=\"https://static.immoweb.be/en/pics/bxlB3.gif\"/>\n</th>\n</tr>\n<tr class=\"classified-table__row\">\n<th class=\"classified-table__header\" scope=\"row\">Reference number of the EPC report</th>\n<td class=\"classified-table__data\">\n                                                                    Not specified\n                                                            </td>\n</tr>\n<tr class=\"classified-table__row\">\n<th class=\"classified-table__header\" scope=\"row\">CO² emission</th>\n<td class=\"classified-table__data\">\n                                                                    17 kg CO2/m²\n                                                            </td>\n</tr>\n<tr class=\"classified-table__row\">\n<th class=\"classified-table__header\" scope=\"row\">\n                                Yearly theoretical total energy consumption\n                            </th>\n<td class=\"classified-table__data\">Not specified</td>\n</tr>\n<tr class=\"classified-table__row\">\n<th class=\"classified-table__header\" scope=\"row\">Heating type</th>\n<td class=\"classified-table__data\">\n                                Gas\n                            </td>\n</tr>\n<tr class=\"classified-table__row\">\n<th class=\"classified-table__header\" scope=\"row\">Double glazing</th>\n<td class=\"classified-table__data\">\n                                Yes\n                            </td>\n</tr>\n</tbody>\n</table>\n</template>\n</iw-accordion>\n</div>\n</div>\n</div>\n</div> <!-- PLANNING SECTION -->\n<div class=\"text-block\">\n<div class=\"grid\">\n<div class=\"grid__item desktop--6\">\n<div class=\"text-block__body\">\n<iw-accordion :heading-level=\"3\" class=\"accordion--section\" type=\"section\">\n<template slot=\"toggler\">Town planning</template>\n<template slot=\"content\">\n<table class=\"classified-table\">\n<tbody class=\"classified-table__body\">\n<tr class=\"classified-table__row\">\n<th class=\"classified-table__header\" scope=\"row\">Total ground floor buildable</th>\n<td class=\"classified-table__data\">\n                                    87\n\n                                    <span class=\"abbreviation\">\n<span aria-hidden=\"true\">\n                                            m²\n                                        </span>\n<span class=\"sr-only\">\n                                            square meters\n                                        </span>\n</span>\n</td>\n</tr>\n<tr class=\"classified-table__row\">\n<th class=\"classified-table__header\" scope=\"row\">Flood zone type</th>\n<td class=\"classified-table__data\">Non flood zone\n                                </td>\n</tr>\n</tbody>\n</table>\n</template>\n</iw-accordion>\n</div>\n</div>\n</div>\n</div>\n<!-- FINANCIAL SECTION -->\n<div class=\"text-block\">\n<div class=\"grid\">\n<div class=\"grid__item desktop--6\">\n<div class=\"text-block__body\">\n<iw-accordion :heading-level=\"3\" class=\"accordion--section\" type=\"section\">\n<template slot=\"toggler\">Financial</template>\n<template slot=\"content\">\n<table class=\"classified-table\">\n<tbody class=\"classified-table__body\">\n<tr>\n<th class=\"classified-table__header\" scope=\"row\">Price</th>\n<td class=\"classified-table__data\">\n<span aria-hidden=\"true\">\n                                                                                        € 380,000\n                                        </span>\n<span class=\"sr-only\">\n                                                                                        380000 €\n                                        </span>\n</td>\n</tr>\n<tr class=\"classified-table__row\">\n<th class=\"classified-table__header\" scope=\"row\">Cadastral income</th>\n<td class=\"classified-table__data\">\n<span aria-hidden=\"true\">\n                                            € 1,691\n                                        </span>\n<span class=\"sr-only\">\n                                            1691 €\n                                        </span>\n</td>\n</tr>\n<tr class=\"classified-table__row\">\n<td class=\"mortgage-banner__container-cell\" colspan=\"2\">\n<iw-classified-mortgage-banner :is-banner=\"true\"></iw-classified-mortgage-banner>\n</td>\n</tr>\n</tbody>\n</table>\n</template>\n</iw-accordion>\n</div>\n</div>\n</div>\n</div>\n<iw-classified-regie :ad-format=\"'horizontal_middle2'\" :regie-rectangle-middle=\"true\" :show-on-mobile=\"false\" :transaction-type=\"'FOR_SALE'\" class=\"classified__regie--rectangle-middle\"></iw-classified-regie>\n<iw-classified-regie :ad-format=\"'horizontal_middle2'\" :regie-rectangle-middle=\"true\" :show-on-mobile=\"true\" :transaction-type=\"'FOR_SALE'\" class=\"classified__regie--rectangle-middle\"></iw-classified-regie>\n</div>\n<div class=\"container\">\n<section class=\"classified__customer\">\n<div class=\"text-block\">\n<iw-accordion :heading-level=\"3\" class=\"accordion--section\" type=\"section\">\n<template slot=\"toggler\">\n                                                About this agency\n                                <span class=\"text-block__subtitle text-block__subtitle--inline\"> : Victoire (Immobilier Neuf)</span>\n</template>\n<template slot=\"content\">\n<div class=\"grid\">\n<div class=\"grid__item desktop--6\">\n<div class=\"text-block__body\">\n<h4 class=\"classified-customer__unique\">Victoire (Immobilier Neuf)\n                                                    </h4>\n<table class=\"classified-table\">\n<tbody class=\"classified-table__body\">\n<tr class=\"classified-table__row\">\n<th class=\"classified-table__header\">\n                                    Address\n                                </th>\n<td class=\"classified-table__data\">\n                                                                                                                        Chaussée de Waterloo 1382 \n                                                                                                                                                                        <br/>\n                                                                                                                            1180\n                                                                                                                            - Uccle\n                                                                                                            </td>\n</tr>\n<tr class=\"classified-table__row\">\n<th class=\"classified-table__header\">\n                                        External reference\n                                    </th>\n<td class=\"classified-table__data\">\n                                        4135460\n                                    </td>\n</tr>\n</tbody>\n</table>\n</div>\n</div>\n</div>\n</template>\n</iw-accordion>\n</div>\n</section> </div>\n<div class=\"container\">\n<section class=\"text-block classified__section--contact\">\n<h2 class=\"text-block__title\">Get in touch</h2>\n<div class=\"grid\">\n<div class=\"grid__item desktop--6\">\n<iw-classified-contact-form></iw-classified-contact-form>\n</div>\n</div>\n</section> </div>\n<div class=\"container\">\n<p class=\"seo-footer__title\">\n<a href=\"https://www.immoweb.be/en/search/house-and-apartment/for-sale\">Buy</a> |\n\t\t\t\t<a href=\"https://www.immoweb.be/en/search/house-and-apartment/for-rent\">Rent</a> |\n\t\t\t\t<a href=\"https://www.immoweb.be/en/search/house/for-sale\">House for sale</a> |\n\t\t\t\t<a href=\"https://www.immoweb.be/en/search/house/for-rent\">House for rent</a> |\n\t\t\t\t<a href=\"https://www.immoweb.be/en/search/apartment/for-sale\">Apartment for sale</a> |\n\t\t\t\t<a href=\"https://www.immoweb.be/en/search/apartment/for-rent\">Apartment for rent</a>\n</p>\n</div>\n<div class=\"container\">\n<footer class=\"footer\" role=\"contentinfo\">\n<div class=\"grid\">\n<div class=\"grid__item x-small--6 small--3 desktop--2 footer__section\">\n<p class=\"footer__title\">About</p>\n<ul class=\"footer__list\">\n<li class=\"footer__item\">\n<a class=\"footer__link\" href=\"https://www.immoweb.be/en/page/about-immoweb\">Immoweb</a>\n</li>\n<li class=\"footer__item\">\n<a class=\"footer__link\" href=\"https://www.immoweb.be/en/page/the-immoweb-newsroom\">Press</a>\n</li>\n<li class=\"footer__item\">\n<a class=\"footer__link link--external\" href=\"https://www.linkedin.com/company/immoweb/jobs/\">Jobs</a>\n</li>\n<li class=\"footer__item\">\n<a class=\"footer__link link--external\" href=\"https://www.axelspringer.com/en/?utm_source=website&amp;utm_medium=referral&amp;utm_campaign=footer&amp;utm_content=en\" rel=\"noopener noreferrer nofollow\" target=\"_blank\">Axel Springer Group</a>\n</li>\n</ul>\n</div>\n<div class=\"grid__item x-small--6 small--3 desktop--2 footer__section\">\n<p class=\"footer__title\">Tools</p>\n<ul class=\"footer__list\">\n<li class=\"footer__item\">\n<a class=\"footer__link link--external\" href=\"https://valuation.immoweb.be/real-estate-estimate/seg1?utm_source=website&amp;utm_medium=referral&amp;utm_campaign=menu\" rel=\"noopener noreferrer nofollow\" target=\"_blank\">Estimate my property </a>\n</li>\n<li class=\"footer__item\">\n<a class=\"footer__link link--external\" href=\"https://www.constructr.be/en?utm_source=website&amp;utm_medium=referral&amp;utm_campaign=footer\" rel=\"noopener noreferrer nofollow\" target=\"_blank\">Inspiration and renovation</a>\n</li>\n<li class=\"footer__item\">\n<a class=\"footer__link link--external\" href=\"https://www.immoweb.be/en/credit-application?icid_to=mortgage&amp;icid_cta=footer\" rel=\"noopener noreferrer nofollow\" target=\"_blank\">Mortgage</a>\n</li>\n<li class=\"footer__item\">\n<a class=\"footer__link link--external\" href=\"https://protect.immoweb.be/tenant-home-insurance/landing?utm_source=website&amp;utm_medium=referral&amp;utm_campaign=footer\" rel=\"noopener noreferrer nofollow\" target=\"_blank\">Insurances</a>\n</li>\n</ul>\n</div>\n<div class=\"grid__item x-small--6 small--3 desktop--2 footer__section\">\n<p class=\"footer__title\">Help</p>\n<ul class=\"footer__list\">\n<li class=\"footer__item\">\n<a class=\"footer__link\" href=\"https://www.immoweb.be/en/frequently-asked-questions\">FAQ</a>\n</li>\n<li class=\"footer__item\">\n<a class=\"footer__link\" href=\"https://www.immoweb.be/en/page/fraud\">Fraud</a>\n</li>\n<li class=\"footer__item\">\n<a class=\"footer__link\" href=\"https://www.immoweb.be/en/page/accessibility\">Accessibility</a>\n</li>\n<li class=\"footer__item\">\n<a class=\"footer__link\" href=\"https://www.immoweb.be/en/page/contact-us\">Contact us</a>\n</li>\n</ul>\n</div>\n<div class=\"grid__item x-small--6 small--3 desktop--2 footer__section\">\n<p class=\"footer__title\">Follow Us</p>\n<ul class=\"footer__list\">\n<li class=\"footer__item\">\n<a class=\"footer__link link--external\" href=\"https://www.facebook.com/immoweb\" rel=\"noopener noreferrer nofollow\" target=\"_blank\">\n\t\t\t\t\t\tFacebook\n\t\t\t\t\t</a>\n</li>\n<li class=\"footer__item\">\n<a class=\"footer__link link--external\" href=\"https://twitter.com/immoweb\" rel=\"noopener noreferrer nofollow\" target=\"_blank\">\n\t\t\t\t\t\tTwitter\n\t\t\t\t\t</a>\n</li>\n<li class=\"footer__item\">\n<a class=\"footer__link link--external\" href=\"https://www.linkedin.com/company/immoweb\" rel=\"noopener noreferrer nofollow\" target=\"_blank\">\n\t\t\t\t\t\tLinkedIn\n\t\t\t\t\t</a>\n</li>\n</ul>\n</div>\n<div class=\"grid__item desktop--4 footer__section footer__section--company\">\n<p class=\"footer__title footer__title--company\">© Immoweb ltd. 2020</p>\n<ul class=\"footer__list footer__list--company\">\n<li class=\"footer__item footer__item--company\">\n<a class=\"footer__link\" href=\"https://www.immoweb.be/en/page/terms-of-use\">\n\t\t\t\t\t\tTerms of use\t\t\t\t\t</a>\n</li>\n<li class=\"footer__item footer__item--company\">\n<a class=\"footer__link\" href=\"#uc-corner-modal-show\">\n\t\t\t\t\t\tCookie settings\t\t\t\t\t</a>\n</li>\n<li class=\"footer__item footer__item--company\">\n<a class=\"footer__link\" href=\"https://www.immoweb.be/en/page/privacy\">\n\t\t\t\t\t\tPrivacy\t\t\t\t\t</a>\n</li>\n</ul>\n<a class=\"footer__partner-link\" href=\"https://www.cim.be/fr/internet/disclaimer-cim-internet\" rel=\"noopener noreferrer\" target=\"_blank\" title=\"Centre d'information sur les médias (Open new tab)\">\n<img alt=\"\" aria-hidden=\"true\" class=\"cim-logo\" src=\"https://assets.immoweb.be/32/images/logos/partners/cim-logo.svg\">\n</img></a>\n<p aria-hidden=\"true\" class=\"footer-hidden\">\n\t\t\t\t32 - ae710446ed0e32b45d3835f9b68aa5d5f2aaefdc - i-07854f4a1a1659d7d\t\t\t</p>\n</div>\n</div>\n</footer> </div>\n380000\n"
    }
   ],
   "source": [
    "from bs4 import BeautifulSoup \n",
    "import re \n",
    "import requests\n",
    "\n",
    "url = r\"https://www.immoweb.be/en/classified/apartment/for-sale/auderghem/1160/8899851?searchId=5f6c49990b1b6\"\n",
    "r = requests.get(url) \n",
    "soup = BeautifulSoup(r.content,'html.parser') \n",
    "\n",
    "\n",
    "for elem in soup.find_all('div', attrs={\"class\": 'container'}):\n",
    "    print(elem)\n",
    "\n",
    "for elem in soup.find_all('tr'):\n",
    "    # when it has a header child\n",
    "    if elem.th:\n",
    "        # and this child has only one string as child, then this is info to store\n",
    "        if elem.th.string:\n",
    "            info_to_store = elem.th.string.strip()\n",
    "            # price info is an exception scraping case\n",
    "            if info_to_store == \"Price\":\n",
    "                r = re.compile(\"(\\d{5,})\\s€\")                \n",
    "                for descendant in elem.td.descendants:\n",
    "                    if r.search(str(descendant)):\n",
    "                        print(int(r.search(str(descendant))[1]))\n",
    "                        break"
   ]
  },
  {
   "cell_type": "code",
   "execution_count": null,
   "metadata": {},
   "outputs": [],
   "source": []
  }
 ],
 "metadata": {
  "kernelspec": {
   "display_name": "Python 3",
   "language": "python",
   "name": "python3"
  },
  "language_info": {
   "codemirror_mode": {
    "name": "ipython",
    "version": 3
   },
   "file_extension": ".py",
   "mimetype": "text/x-python",
   "name": "python",
   "nbconvert_exporter": "python",
   "pygments_lexer": "ipython3",
   "version": "3.6.9"
  }
 },
 "nbformat": 4,
 "nbformat_minor": 4
}
