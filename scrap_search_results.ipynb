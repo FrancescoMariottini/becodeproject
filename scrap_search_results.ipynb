{
 "cells": [
  {
   "source": [
    "## scrap_list\n",
    "\n",
    "Function to scrap a list of urls.\n",
    "dict_urls : dictionnary with urls(string) as key and is_house(bool) as value\n",
    "Returns a dictionnary compatible with the dataframe model\n",
    "\n",
    "## scrap\n",
    "\n",
    "Function to scrap a specific url.\n",
    "url : url string \n",
    "is_house : bool indicating wheter the estate is a house or an appartment\n",
    "Returns a dictionnary with the propery name as key and it's value as value.\n",
    "\n",
    "    "
   ],
   "cell_type": "markdown",
   "metadata": {}
  },
  {
   "cell_type": "code",
   "execution_count": null,
   "metadata": {},
   "outputs": [],
   "source": [
    "from bs4 import BeautifulSoup import re import requests\n",
    "\n",
    "def scrap_list(dict_urls): \n",
    "    dict_dataframe = {}\n",
    "\n",
    "    for key in dict_urls: \n",
    "        scrap(key, dict_urlskey)\n",
    "    \n",
    "    return dict_dataframe\n",
    "\n",
    "def scrap(url, is_house): \n",
    "    dict = {} \n",
    "    r = requests.get(url) \n",
    "    soup = BeautifulSoup(r.content,'html.parser') \n",
    "    \n",
    "    dict[\"link\"] = url\n",
    "    #dict[\"locality\"] = 'k'\n",
    "    dict[\"postcode\"] = re.findall('/[0-9]{4}/', url)[0].replace('/', '')\n",
    "    dict['house_is'] = is_house\n",
    "    \n",
    "    return dict"
   ]
  }
 ],
 "metadata": {
  "kernelspec": {
   "display_name": "Python 3",
   "language": "python",
   "name": "python3"
  },
  "language_info": {
   "codemirror_mode": {
    "name": "ipython",
    "version": 3
   },
   "file_extension": ".py",
   "mimetype": "text/x-python",
   "name": "python",
   "nbconvert_exporter": "python",
   "pygments_lexer": "ipython3",
   "version": "3.8.3-final"
  }
 },
 "nbformat": 4,
 "nbformat_minor": 4
}