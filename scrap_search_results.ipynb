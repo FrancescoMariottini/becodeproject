{
 "cells": [
  {
   "source": [
    "## scrap_list\n",
    "\n",
    "Function to scrap a list of urls.<br>\n",
    "dict_urls : dictionnary with urls(string) as key and is_house(bool) as value<br>\n",
    "Returns a dictionnary compatible with the dataframe model<br>\n",
    "\n",
    "## scrap\n",
    "\n",
    "Function to scrap a specific url.<br>\n",
    "url : url string <br>\n",
    "is_house : bit indicating wheter the estate is a house or an appartment<br>\n",
    "Returns a dictionnary with the propery name as key and it's value as value.<br>\n",
    "\n",
    "    "
   ],
   "cell_type": "markdown",
   "metadata": {}
  },
  {
   "cell_type": "code",
   "execution_count": null,
   "metadata": {},
   "outputs": [],
   "source": [
    "from bs4 import BeautifulSoup \n",
    "import re \n",
    "import requests\n",
    "\n",
    "def scrap_list(dict_urls): \n",
    "    #listing all the property names\n",
    "    properties = [\"hyperlink\" ,\"locality\", \"postcode\", \"house_is\", \"property_subtype\",\t\"price\", \"sale\", \"rooms_number\", \"area\", \"kitchen_has\", \"furnished\",\t\"open_fire\", \"terrace\", \"terrace_area\", \"garden\", \"garden_area\", \"land_surface\", \"land_plot_surface\", \"facades_number\", \"swimming_pool_has\"]\n",
    "\n",
    "    #making a dict with all the property names as key and an empty list as value\n",
    "    for property_name in properties\n",
    "        dict_dataframe[property_name] = []\n",
    "\n",
    "    #scrap each url of the input and put the result into a variable\n",
    "    for key in dict_urls: \n",
    "        dict_result_scrapping = scrap(key, dict_urls[key])\n",
    "\n",
    "        #for each property (key) of the scrapping out put, match it with dataframe property. If none exist, just use None\n",
    "        for key1 in dict_dataframe:\n",
    "            dict_dataframe[key1].append(dict_result_scrapping.get(key1, False) or None)            \n",
    "    \n",
    "    return dict_dataframe\n",
    "\n",
    "def scrap(url, is_house): \n",
    "    dict = {} \n",
    "    r = requests.get(url) \n",
    "    soup = BeautifulSoup(r.content,'html.parser') \n",
    "    \n",
    "    dict[\"hyperlink\"] = url\n",
    "    dict[\"locality\"] = url.split(\"/\")[7]\n",
    "    dict[\"postcode\"] = url.split(\"/\")[8]\n",
    "    dict['house_is'] = is_house\n",
    "    dict['property_subtype'] = url.split(\"/\")[5]\n",
    "    dict['price'] = ''\n",
    "    dict['sale'] = ''\n",
    "    dict['rooms_number'] = ''\n",
    "    dict['kitchen_has'] = ''\n",
    "    dict['furnished'] = ''\n",
    "    dict['open_fire'] = ''\n",
    "    dict['terrace'] = ''\n",
    "    dict['terrace_area'] = ''\n",
    "    dict['garden'] = ''\n",
    "    dict['garden_area'] = ''\n",
    "    dict['land_surface'] = ''\n",
    "    dict['land_plot_surface'] = ''\n",
    "    dict['facades_number'] = ''\n",
    "    dict['swimming_pool_has'] = ''\n",
    "    \n",
    "    return dict"
   ]
  },
  {
   "cell_type": "code",
   "execution_count": 4,
   "metadata": {
    "tags": []
   },
   "outputs": [
    {
     "output_type": "stream",
     "name": "stdout",
     "text": "['https:', '', 'www.immoweb.be', 'en', 'classified', 'apartment', 'for-sale', 'auderghem', '1160', '8899851?searchId=5f6c49990b1b6']\n1160\n"
    }
   ],
   "source": []
  },
  {
   "cell_type": "code",
   "execution_count": null,
   "metadata": {},
   "outputs": [],
   "source": []
  }
 ],
 "metadata": {
  "kernelspec": {
   "display_name": "Python 3",
   "language": "python",
   "name": "python3"
  },
  "language_info": {
   "codemirror_mode": {
    "name": "ipython",
    "version": 3
   },
   "file_extension": ".py",
   "mimetype": "text/x-python",
   "name": "python",
   "nbconvert_exporter": "python",
   "pygments_lexer": "ipython3",
   "version": "3.8.3-final"
  }
 },
 "nbformat": 4,
 "nbformat_minor": 4
}