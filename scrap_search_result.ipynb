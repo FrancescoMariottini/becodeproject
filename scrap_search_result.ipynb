{
 "cells": [
  {
   "cell_type": "code",
   "execution_count": 2,
   "metadata": {},
   "outputs": [
    {
     "output_type": "execute_result",
     "data": {
      "text/plain": "{'link': 'https://www.immoweb.be/en/classified/house/for-sale/seraing/4100/8771411',\n 'locality': 'k',\n 'postcode': '4100',\n 'house_is': 1}"
     },
     "metadata": {},
     "execution_count": 2
    }
   ],
   "source": [
    "from bs4 import BeautifulSoup\n",
    "import re\n",
    "import requests\n",
    "\n",
    "\n",
    "def scrap(url, is_house):\n",
    "    dict = {}\n",
    "    r = requests.get(url)\n",
    "    soup = BeautifulSoup(r.content,'html.parser')\n",
    "    dict_table = {}\n",
    "\n",
    "    dict[\"link\"] = url\n",
    "    #dict[\"locality\"] = 'k'\n",
    "    dict[\"postcode\"] = re.findall('/[0-9]{4}/', url)[0].replace('/', '')\n",
    "    dict['house_is'] = is_house\n",
    "        \n",
    "    return dict\n",
    "\n",
    "    "
   ]
  },
  {
   "cell_type": "code",
   "execution_count": null,
   "metadata": {},
   "outputs": [],
   "source": []
  }
 ],
 "metadata": {
  "kernelspec": {
   "display_name": "Python 3",
   "language": "python",
   "name": "python3"
  },
  "language_info": {
   "codemirror_mode": {
    "name": "ipython",
    "version": 3
   },
   "file_extension": ".py",
   "mimetype": "text/x-python",
   "name": "python",
   "nbconvert_exporter": "python",
   "pygments_lexer": "ipython3",
   "version": "3.8.3-final"
  }
 },
 "nbformat": 4,
 "nbformat_minor": 4
}