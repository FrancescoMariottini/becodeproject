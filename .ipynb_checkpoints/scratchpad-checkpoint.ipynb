{
 "cells": [
  {
   "cell_type": "code",
   "execution_count": 91,
   "metadata": {},
   "outputs": [
    {
     "name": "stdout",
     "output_type": "stream",
     "text": [
      "https://www.immoweb.be/en/classified/house/for-sale/seraing/4100/8771411 200\n",
      "{'Available as of': 'Upon exchange of deeds', 'Building condition': 'Good', 'Facades': 3, 'Living area': 70, 'Kitchen type': 'Semi equipped', 'Bedrooms': 2, 'Bedroom 1 surface': 20, 'Bedroom 2 surface': 14, 'Bathrooms': 1, 'Toilets': 1, 'Basement': 'Yes', 'Surface of the plot': 93, 'Connection to sewer network': 'Connected', 'Gas, water & electricity': 'Yes', 'Terrace': 'Yes', 'Primary energy consumption': 340, 'Energy class': 'D', 'Reference number of the EPC report': 20170928019834, 'CO² emission': 'Not specified', 'Yearly theoretical total energy consumption': '26952 kWh/year', 'Heating type': 'Gas', 'Double glazing': 'Yes', 'Price': 129000, 'Cadastral income': '', 'Address': \"Boulevard d'Avroy 238B,4000,                                                                                                                            - Liège\", 'Website': '', 'External reference': 4045180}\n",
      "27\n"
     ]
    }
   ],
   "source": [
    "from bs4 import BeautifulSoup\n",
    "import requests\n",
    "import re\n",
    "import time\n",
    "import random\n",
    "from random import randint\n",
    "\n",
    "# Url of website\n",
    "url='https://www.immoweb.be/en/classified/house/for-sale/seraing/4100/8771411'\n",
    "# I slow down the frequency of requests to avoid being identified and therefore ban from the site\n",
    "time.sleep(random.uniform(1.0, 2.0))\n",
    "# I send my HTTP request with a \"GET\" to the site server to identify in the url\n",
    "r = requests.get(url)\n",
    "# I display the requested url and the return of the server\n",
    "print(url, r.status_code)\n",
    "# I ask beautifulSoup to keep in a soup variable the web page to scrape (url) an html script\n",
    "soup = BeautifulSoup(r.content,'lxml')\n",
    "\n",
    "# initialise the output dictionary\n",
    "property_dict = {}\n",
    "\n",
    "# find useful data in every row element\n",
    "for elem in soup.find_all('tr'):\n",
    "    # when it has a header child\n",
    "    if elem.th:\n",
    "        # and this child has only one string as child, then this is info to store\n",
    "        if elem.th.string:\n",
    "            info_to_store = elem.th.string.strip()\n",
    "            # price info is an exception scraping case\n",
    "            if info_to_store == \"Price\":\n",
    "                r = re.compile(\"(\\d{5,})\\s€\")                \n",
    "                for descendant in elem.td.descendants:\n",
    "                    if r.search(str(descendant)):\n",
    "                        property_dict[\"Price\"] = int(r.search(str(descendant))[1])\n",
    "                        break\n",
    "            # Address info is an exception scraping case, it is spread over different children of the data child\n",
    "            elif info_to_store == \"Address\":\n",
    "                address_list = [str(address_line).strip() for address_line in elem.td.contents]\n",
    "                value_to_store = ''.join(address_list).replace(\"\\n\",\",\").replace(\"<br/>\",\",\")\n",
    "                property_dict[info_to_store] = value_to_store\n",
    "            # The standard case is that values are present in the first child of the data child\n",
    "            else:\n",
    "                value_to_store = elem.td.contents[0].strip()\n",
    "                if value_to_store.isnumeric():\n",
    "                    property_dict[info_to_store] = int(value_to_store)\n",
    "                else:\n",
    "                    property_dict[info_to_store] = value_to_store\n",
    "\n",
    "# store the postcode from url\n",
    "property_dict[\"postcode\"] = re.findall('/[0-9]{4}/', url)[0].replace('/', '')\n",
    "                    \n",
    "print(property_dict)\n",
    "print(len(property_dict))\n",
    "                "
   ]
  }
 ],
 "metadata": {
  "kernelspec": {
   "display_name": "Python 3",
   "language": "python",
   "name": "python3"
  },
  "language_info": {
   "codemirror_mode": {
    "name": "ipython",
    "version": 3
   },
   "file_extension": ".py",
   "mimetype": "text/x-python",
   "name": "python",
   "nbconvert_exporter": "python",
   "pygments_lexer": "ipython3",
   "version": "3.6.9"
  }
 },
 "nbformat": 4,
 "nbformat_minor": 4
}
