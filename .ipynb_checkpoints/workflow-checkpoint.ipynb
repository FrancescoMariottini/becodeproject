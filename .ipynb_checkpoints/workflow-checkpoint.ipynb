{
 "cells": [
  {
   "cell_type": "markdown",
   "metadata": {},
   "source": [
    "# First we get a number of search results on houses and apartments from immoweb.\n",
    "## 2 pages = 120 propeties"
   ]
  },
  {
   "cell_type": "code",
   "execution_count": 2,
   "metadata": {},
   "outputs": [
    {
     "data": {
      "text/plain": [
       "{'https://www.immoweb.be/en/classified/villa/for-sale/everberg/3078/8953301': 1,\n",
       " 'https://www.immoweb.be/en/classified/house/for-sale/zonhoven/3520/8953299': 1,\n",
       " 'https://www.immoweb.be/en/classified/house/for-sale/antwerp/2018/8953290': 1,\n",
       " 'https://www.immoweb.be/en/classified/house/for-sale/waanrode/3473/8953289': 1,\n",
       " 'https://www.immoweb.be/en/classified/villa/for-sale/hannut/4280/8870993': 1,\n",
       " 'https://www.immoweb.be/en/classified/house/for-sale/havelange/5370/8953285': 1,\n",
       " 'https://www.immoweb.be/en/classified/house/for-sale/vilvoorde/1800/8953284': 1,\n",
       " 'https://www.immoweb.be/en/classified/house/for-sale/zottegem/9620/8953274': 1,\n",
       " 'https://www.immoweb.be/en/classified/villa/for-sale/erembodegem/9320/8953273': 1,\n",
       " 'https://www.immoweb.be/en/classified/exceptional-property/for-sale/erembodegem/9320/8953270': 1,\n",
       " 'https://www.immoweb.be/en/classified/mixed-use-building/for-sale/merchtem/1785/8953269': 1,\n",
       " 'https://www.immoweb.be/en/classified/house/for-sale/merchtem/1785/8953268': 1,\n",
       " 'https://www.immoweb.be/en/classified/house/for-sale/aalst/9300/8953262': 1,\n",
       " 'https://www.immoweb.be/en/classified/apartment-block/for-sale/villers-la-ville/1495/8953261': 1,\n",
       " 'https://www.immoweb.be/en/classified/house/for-sale/lokeren/9160/8953246': 1,\n",
       " 'https://www.immoweb.be/en/classified/house/for-sale/wetteren/9230/8953240': 1,\n",
       " 'https://www.immoweb.be/en/classified/mixed-use-building/for-sale/jumet/6040/8953236': 1,\n",
       " 'https://www.immoweb.be/en/classified/house/for-sale/luingne/7700/8939787': 1,\n",
       " 'https://www.immoweb.be/en/classified/house/for-sale/monceau-sur-sambre/6031/8702619': 1,\n",
       " 'https://www.immoweb.be/en/classified/country-cottage/for-sale/lavaux-sainte-anne/5580/8953221': 1,\n",
       " 'https://www.immoweb.be/en/classified/house/for-sale/sint-gillis-bij-dendermonde/9200/8953217': 1,\n",
       " 'https://www.immoweb.be/en/classified/house/for-sale/somzee/5651/8953213': 1,\n",
       " 'https://www.immoweb.be/en/classified/exceptional-property/for-sale/kraainem/1950/8953208': 1,\n",
       " 'https://www.immoweb.be/en/classified/house/for-sale/merelbeke/9820/8953206': 1,\n",
       " 'https://www.immoweb.be/en/classified/villa/for-sale/uccle/1180/8953202': 1,\n",
       " 'https://www.immoweb.be/en/classified/house/for-sale/liedekerke/1770/8953201': 1,\n",
       " 'https://www.immoweb.be/en/classified/house/for-sale/sint-katherina-lombeek/1742/8953200': 1,\n",
       " 'https://www.immoweb.be/en/classified/house/for-sale/brasschaat/2930/8953198': 1,\n",
       " 'https://www.immoweb.be/en/classified/house/for-sale/sint-pieters-leeuw/1600/8953197': 1,\n",
       " 'https://www.immoweb.be/en/classified/house/for-sale/vorselaar/2290/8953193': 1,\n",
       " 'https://www.immoweb.be/en/classified/apartment/for-sale/kortenberg/3070/8953300': 0,\n",
       " 'https://www.immoweb.be/en/classified/apartment/for-sale/uccle/1180/8953281': 0,\n",
       " 'https://www.immoweb.be/en/classified/penthouse/for-sale/aalst/9300/8953280': 0,\n",
       " 'https://www.immoweb.be/en/classified/penthouse/for-sale/aalst/9300/8953278': 0,\n",
       " 'https://www.immoweb.be/en/classified/ground-floor/for-sale/aalst/9300/8953277': 0,\n",
       " 'https://www.immoweb.be/en/classified/penthouse/for-sale/aalst/9300/8953276': 0,\n",
       " 'https://www.immoweb.be/en/classified/penthouse/for-sale/aalst/9300/8953275': 0,\n",
       " 'https://www.immoweb.be/en/classified/apartment/for-sale/aalst/9300/8953272': 0,\n",
       " 'https://www.immoweb.be/en/classified/apartment/for-sale/enghien/7850/8953271': 0,\n",
       " 'https://www.immoweb.be/en/classified/apartment/for-sale/aalst/9300/8953266': 0,\n",
       " 'https://www.immoweb.be/en/classified/apartment/for-sale/aalst/9300/8953264': 0,\n",
       " 'https://www.immoweb.be/en/classified/apartment/for-sale/aalst/9300/8953259': 0,\n",
       " 'https://www.immoweb.be/en/classified/apartment/for-sale/aalst/9300/8953258': 0,\n",
       " 'https://www.immoweb.be/en/classified/apartment/for-sale/wichelen/9260/8953257': 0,\n",
       " 'https://www.immoweb.be/en/classified/apartment/for-sale/aalst/9300/8953255': 0,\n",
       " 'https://www.immoweb.be/en/classified/apartment/for-sale/aalst/9300/8953254': 0,\n",
       " 'https://www.immoweb.be/en/classified/apartment/for-sale/aalst/9300/8953253': 0,\n",
       " 'https://www.immoweb.be/en/classified/apartment/for-sale/aalst/9300/8953252': 0,\n",
       " 'https://www.immoweb.be/en/classified/apartment/for-sale/aalst/9300/8953251': 0,\n",
       " 'https://www.immoweb.be/en/classified/apartment/for-sale/aalst/9300/8953250': 0,\n",
       " 'https://www.immoweb.be/en/classified/apartment/for-sale/aalst/9300/8953248': 0,\n",
       " 'https://www.immoweb.be/en/classified/apartment/for-sale/wilrijk/2610/8953241': 0,\n",
       " 'https://www.immoweb.be/en/classified/apartment/for-sale/antwerp/2060/8918174': 0,\n",
       " 'https://www.immoweb.be/en/classified/apartment/for-sale/antwerp/2000/8953235': 0,\n",
       " 'https://www.immoweb.be/en/classified/ground-floor/for-sale/blankenberge/8370/8953226': 0,\n",
       " 'https://www.immoweb.be/en/classified/flat-studio/for-sale/ingelmunster/8770/8881034': 0,\n",
       " 'https://www.immoweb.be/en/classified/apartment/for-sale/liege/4000/8953219': 0,\n",
       " 'https://www.immoweb.be/en/classified/apartment/for-sale/de-panne/8660/8951374': 0,\n",
       " 'https://www.immoweb.be/en/classified/apartment/for-sale/middelkerke/8430/8564306': 0,\n",
       " 'https://www.immoweb.be/en/classified/apartment/for-sale/menen/8930/8953209': 0,\n",
       " 'https://www.immoweb.be/en/classified/house/for-sale/brecht-sint-job-in-t-goor/2960/8953190': 1,\n",
       " 'https://www.immoweb.be/en/classified/apartment-block/for-sale/antwerp/2060/8875481': 1,\n",
       " 'https://www.immoweb.be/en/classified/house/for-sale/lier/2500/8914667': 1,\n",
       " 'https://www.immoweb.be/en/classified/house/for-sale/assenede/9968/8953183': 1,\n",
       " 'https://www.immoweb.be/en/classified/house/for-sale/ougree/4102/8953182': 1,\n",
       " 'https://www.immoweb.be/en/classified/house/for-sale/putte/2580/8953175': 1,\n",
       " 'https://www.immoweb.be/en/classified/villa/for-sale/grez-doiceau/1390/8904919': 1,\n",
       " 'https://www.immoweb.be/en/classified/mansion/for-sale/gent/9000/8953146': 1,\n",
       " 'https://www.immoweb.be/en/classified/house/for-sale/falmagne/5500/8953138': 1,\n",
       " 'https://www.immoweb.be/en/classified/house/for-sale/saint-vaast/7100/8953137': 1,\n",
       " 'https://www.immoweb.be/en/classified/house/for-sale/leopoldsburg/3970/8913445': 1,\n",
       " 'https://www.immoweb.be/en/classified/house/for-sale/schoten/2900/8953133': 1,\n",
       " 'https://www.immoweb.be/en/classified/house/for-sale/jemeppe-sur-sambre/5190/8953131': 1,\n",
       " 'https://www.immoweb.be/en/classified/house/for-sale/aartselaar/2630/8953129': 1,\n",
       " 'https://www.immoweb.be/en/classified/villa/for-sale/florennes/5620/8953128': 1,\n",
       " 'https://www.immoweb.be/en/classified/house/for-sale/paliseul/6850/8878869': 1,\n",
       " 'https://www.immoweb.be/en/classified/house/for-sale/chatelet/6200/8953120': 1,\n",
       " 'https://www.immoweb.be/en/classified/mixed-use-building/for-sale/gembloux/5030/8953119': 1,\n",
       " 'https://www.immoweb.be/en/classified/house/for-sale/vielsalm/6690/8953116': 1,\n",
       " 'https://www.immoweb.be/en/classified/villa/for-sale/tourinnes-la-grosse/1320/8953109': 1,\n",
       " 'https://www.immoweb.be/en/classified/villa/for-sale/braine-le-chateau/1440/8953101': 1,\n",
       " 'https://www.immoweb.be/en/classified/house/for-sale/scherpenheuvel/3270/8953098': 1,\n",
       " 'https://www.immoweb.be/en/classified/town-house/for-sale/berchem-sainte-agathe/1082/8953096': 1,\n",
       " 'https://www.immoweb.be/en/classified/house/for-sale/ecaussinnes/7190/8953092': 1,\n",
       " 'https://www.immoweb.be/en/classified/house/for-sale/marcq/7850/8953091': 1,\n",
       " 'https://www.immoweb.be/en/classified/villa/for-sale/waterloo/1410/8953087': 1,\n",
       " 'https://www.immoweb.be/en/classified/house/for-sale/virton/6760/8953089': 1,\n",
       " 'https://www.immoweb.be/en/classified/house/for-sale/schelle/2627/8937009': 1,\n",
       " 'https://www.immoweb.be/en/classified/house/for-sale/nieuwerkerken/3850/8953082': 1,\n",
       " 'https://www.immoweb.be/en/classified/house/for-sale/sint-niklaas/9100/8953077': 1,\n",
       " 'https://www.immoweb.be/en/classified/apartment/for-sale/anderlecht/1070/8953178': 0,\n",
       " 'https://www.immoweb.be/en/classified/flat-studio/for-sale/chenee/4032/8953151': 0,\n",
       " 'https://www.immoweb.be/en/classified/apartment/for-sale/oostende/8400/8850793': 0,\n",
       " 'https://www.immoweb.be/en/classified/apartment/for-sale/brussels-city/1000/8953158': 0,\n",
       " 'https://www.immoweb.be/en/classified/apartment/for-sale/ixelles/1050/8953156': 0,\n",
       " 'https://www.immoweb.be/en/classified/apartment/for-sale/ixelles/1050/8953155': 0,\n",
       " 'https://www.immoweb.be/en/classified/apartment/for-sale/willebroek/2830/8953136': 0,\n",
       " 'https://www.immoweb.be/en/classified/apartment/for-sale/deurne/2100/8953127': 0,\n",
       " 'https://www.immoweb.be/en/classified/apartment/for-sale/machelen/1830/8953123': 0,\n",
       " 'https://www.immoweb.be/en/classified/duplex/for-sale/evere/1140/8953122': 0,\n",
       " 'https://www.immoweb.be/en/classified/apartment/for-sale/oostende/8400/8827482': 0,\n",
       " 'https://www.immoweb.be/en/classified/apartment/for-sale/bruxelles/1000/8953108': 0,\n",
       " 'https://www.immoweb.be/en/classified/apartment/for-sale/vosselaar/2350/8953094': 0,\n",
       " 'https://www.immoweb.be/en/classified/apartment/for-sale/jette/1090/8953093': 0,\n",
       " 'https://www.immoweb.be/en/classified/penthouse/for-sale/knokke-heist/8300/8953085': 0,\n",
       " 'https://www.immoweb.be/en/classified/apartment/for-sale/marche-en-famenne/6900/8953080': 0,\n",
       " 'https://www.immoweb.be/en/classified/duplex/for-sale/blankenberge/8370/8953067': 0,\n",
       " 'https://www.immoweb.be/en/classified/apartment/for-sale/ichtegem/8480/8953066': 0,\n",
       " 'https://www.immoweb.be/en/classified/apartment/for-sale/blankenberge/8370/8953065': 0,\n",
       " 'https://www.immoweb.be/en/classified/apartment/for-sale/schriek/2223/8953051': 0,\n",
       " 'https://www.immoweb.be/en/classified/apartment/for-sale/schriek/2223/8953050': 0,\n",
       " 'https://www.immoweb.be/en/classified/apartment/for-sale/sint-andries/8200/8953047': 0,\n",
       " 'https://www.immoweb.be/en/classified/apartment/for-sale/koksijde/8670/8215482': 0,\n",
       " 'https://www.immoweb.be/en/classified/apartment/for-sale/brussels-city/1000/8953024': 0,\n",
       " 'https://www.immoweb.be/en/classified/apartment/for-sale/welle/9473/8953030': 0,\n",
       " 'https://www.immoweb.be/en/classified/apartment/for-sale/molenbeek-st-jean/1080/8953013': 0,\n",
       " 'https://www.immoweb.be/en/classified/apartment/for-sale/wilrijk/2610/8953021': 0,\n",
       " 'https://www.immoweb.be/en/classified/flat-studio/for-sale/middelkerke/8430/8953019': 0,\n",
       " 'https://www.immoweb.be/en/classified/apartment/for-sale/brussels-city/1000/8953014': 0,\n",
       " 'https://www.immoweb.be/en/classified/duplex/for-sale/assenede/9968/8928973': 0}"
      ]
     },
     "execution_count": 2,
     "metadata": {},
     "output_type": "execute_result"
    }
   ],
   "source": [
    "import get_search_results as search\n",
    "\n",
    "dict_urls = search.get_search_results(2)\n",
    "dict_urls"
   ]
  },
  {
   "cell_type": "markdown",
   "metadata": {},
   "source": [
    "# Then, we iterate through the found properties and scrape data."
   ]
  },
  {
   "cell_type": "code",
   "execution_count": 3,
   "metadata": {},
   "outputs": [
    {
     "name": "stderr",
     "output_type": "stream",
     "text": [
      "/usr/lib/python3/dist-packages/requests/__init__.py:80: RequestsDependencyWarning: urllib3 (1.25.10) or chardet (3.0.4) doesn't match a supported version!\n",
      "  RequestsDependencyWarning)\n"
     ]
    },
    {
     "ename": "KeyError",
     "evalue": "'link'",
     "output_type": "error",
     "traceback": [
      "\u001b[0;31m---------------------------------------------------------------------------\u001b[0m",
      "\u001b[0;31mKeyError\u001b[0m                                  Traceback (most recent call last)",
      "\u001b[0;32m<ipython-input-3-d32417dc6d9f>\u001b[0m in \u001b[0;36m<module>\u001b[0;34m\u001b[0m\n\u001b[1;32m      1\u001b[0m \u001b[0;32mimport\u001b[0m \u001b[0mscrap_search_result\u001b[0m \u001b[0;32mas\u001b[0m \u001b[0mscrap\u001b[0m\u001b[0;34m\u001b[0m\u001b[0;34m\u001b[0m\u001b[0m\n\u001b[1;32m      2\u001b[0m \u001b[0;34m\u001b[0m\u001b[0m\n\u001b[0;32m----> 3\u001b[0;31m \u001b[0mscrap\u001b[0m\u001b[0;34m.\u001b[0m\u001b[0mscrap_list\u001b[0m\u001b[0;34m(\u001b[0m\u001b[0mdict_urls\u001b[0m\u001b[0;34m)\u001b[0m\u001b[0;34m\u001b[0m\u001b[0;34m\u001b[0m\u001b[0m\n\u001b[0m",
      "\u001b[0;32m~/Desktop/Octocat/becode_projects/challenge-collecting-data/scrap_search_result.py\u001b[0m in \u001b[0;36mscrap_list\u001b[0;34m(dict_urls)\u001b[0m\n\u001b[1;32m     10\u001b[0m \u001b[0;34m\u001b[0m\u001b[0m\n\u001b[1;32m     11\u001b[0m         \u001b[0;32mfor\u001b[0m \u001b[0mkey1\u001b[0m \u001b[0;32min\u001b[0m \u001b[0mdict_result_scrapping\u001b[0m\u001b[0;34m:\u001b[0m\u001b[0;34m\u001b[0m\u001b[0;34m\u001b[0m\u001b[0m\n\u001b[0;32m---> 12\u001b[0;31m             \u001b[0mdict_dataframe\u001b[0m\u001b[0;34m[\u001b[0m\u001b[0mkey1\u001b[0m\u001b[0;34m]\u001b[0m\u001b[0;34m.\u001b[0m\u001b[0mappend\u001b[0m\u001b[0;34m(\u001b[0m\u001b[0mdict_result_scrapping\u001b[0m\u001b[0;34m[\u001b[0m\u001b[0mkey1\u001b[0m\u001b[0;34m]\u001b[0m\u001b[0;34m)\u001b[0m\u001b[0;34m\u001b[0m\u001b[0;34m\u001b[0m\u001b[0m\n\u001b[0m\u001b[1;32m     13\u001b[0m \u001b[0;34m\u001b[0m\u001b[0m\n\u001b[1;32m     14\u001b[0m     \u001b[0;32mreturn\u001b[0m \u001b[0mdict_dataframe\u001b[0m\u001b[0;34m\u001b[0m\u001b[0;34m\u001b[0m\u001b[0m\n",
      "\u001b[0;31mKeyError\u001b[0m: 'link'"
     ]
    }
   ],
   "source": [
    "import scrap_search_result as scrap\n",
    "\n",
    "scrap.scrap_list(dict_urls)"
   ]
  },
  {
   "cell_type": "code",
   "execution_count": null,
   "metadata": {},
   "outputs": [],
   "source": []
  }
 ],
 "metadata": {
  "kernelspec": {
   "display_name": "Python 3",
   "language": "python",
   "name": "python3"
  },
  "language_info": {
   "codemirror_mode": {
    "name": "ipython",
    "version": 3
   },
   "file_extension": ".py",
   "mimetype": "text/x-python",
   "name": "python",
   "nbconvert_exporter": "python",
   "pygments_lexer": "ipython3",
   "version": "3.6.9"
  }
 },
 "nbformat": 4,
 "nbformat_minor": 4
}
