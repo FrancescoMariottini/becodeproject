{
 "cells": [
  {
   "cell_type": "code",
   "execution_count": 94,
   "metadata": {},
   "outputs": [
    {
     "name": "stdout",
     "output_type": "stream",
     "text": [
      "https://www.immoweb.be/en/classified/villa/for-sale/tervuren/3080/8869268 200\n",
      "Available as of Immediately\n",
      "Available date August 6 2020 - 12:00 AM\n",
      "Construction year 1988\n",
      "Building condition As new\n",
      "Facades 4\n",
      "Covered parking spaces 3\n",
      "Living area 550\n",
      "Living room surface 50\n",
      "Dining room Yes\n",
      "Kitchen type Hyper equipped\n",
      "Bedrooms 10\n",
      "Bathrooms 7\n",
      "Shower rooms 4\n",
      "Toilets 7\n",
      "Office surface 9\n",
      "Office Yes\n",
      "Furnished Yes\n",
      "Surface of the plot 1060\n",
      "Connection to sewer network Connected\n",
      "Gas, water & electricity Yes\n",
      "Garden surface 250\n",
      "Terrace surface 40\n",
      "Disabled access Yes\n",
      "Intercom Yes\n",
      "Swimming pool Yes\n",
      "Primary energy consumption 196\n",
      "Energy class B\n",
      "Reference number of the EPC report 20141108-0001632796-00000021-1\n",
      "CO² emission 20 kg CO2/m²\n",
      "Yearly theoretical total energy consumption Not specified\n",
      "Heating type Gas\n",
      "Double glazing Yes\n",
      "Total ground floor buildable 40\n",
      "Price 2450000\n",
      "Address Rue Belliard 200,1000,                                                                                                                            - Ixelles\n",
      "Website \n",
      "External reference 4115637\n",
      "postcode 3080\n",
      "38\n"
     ]
    }
   ],
   "source": [
    "from bs4 import BeautifulSoup\n",
    "import requests\n",
    "import re\n",
    "import time\n",
    "import random\n",
    "from random import randint\n",
    "\n",
    "# Url of website\n",
    "url='https://www.immoweb.be/en/classified/villa/for-sale/tervuren/3080/8869268'\n",
    "# I slow down the frequency of requests to avoid being identified and therefore ban from the site\n",
    "time.sleep(random.uniform(1.0, 2.0))\n",
    "# I send my HTTP request with a \"GET\" to the site server to identify in the url\n",
    "r = requests.get(url)\n",
    "# I display the requested url and the return of the server\n",
    "print(url, r.status_code)\n",
    "# I ask beautifulSoup to keep in a soup variable the web page to scrape (url) an html script\n",
    "soup = BeautifulSoup(r.content,'lxml')\n",
    "\n",
    "# initialise the output dictionary\n",
    "property_dict = {}\n",
    "\n",
    "# find useful data in every row element\n",
    "for elem in soup.find_all('tr'):\n",
    "    # when it has a header child\n",
    "    if elem.th:\n",
    "        # and this child has only one string as child, then this is info to store\n",
    "        if elem.th.string:\n",
    "            info_to_store = elem.th.string.strip()\n",
    "            # price info is an exception scraping case\n",
    "            if info_to_store == \"Price\":\n",
    "                r = re.compile(\"(\\d{5,})\\s€\")                \n",
    "                for descendant in elem.td.descendants:\n",
    "                    if r.search(str(descendant)):\n",
    "                        property_dict[\"Price\"] = int(r.search(str(descendant))[1])\n",
    "                        break\n",
    "            # Address info is an exception scraping case, it is spread over different children of the data child\n",
    "            elif info_to_store == \"Address\":\n",
    "                address_list = [str(address_line).strip() for address_line in elem.td.contents]\n",
    "                value_to_store = ''.join(address_list).replace(\"\\n\",\",\").replace(\"<br/>\",\",\")\n",
    "                property_dict[info_to_store] = value_to_store\n",
    "            # The standard case is that values are present in the first child of the data child\n",
    "            else:\n",
    "                value_to_store = elem.td.contents[0].strip()\n",
    "                if value_to_store.isnumeric():\n",
    "                    property_dict[info_to_store] = int(value_to_store)\n",
    "                else:\n",
    "                    property_dict[info_to_store] = value_to_store\n",
    "\n",
    "# store the postcode from url\n",
    "property_dict[\"postcode\"] = re.findall('/[0-9]{4}/', url)[0].replace('/', '')\n",
    "                    \n",
    "for item, value in property_dict.items():\n",
    "    print(item,value)\n",
    "print(len(property_dict))\n",
    "                "
   ]
  },
  {
   "cell_type": "code",
   "execution_count": 1,
   "metadata": {},
   "outputs": [
    {
     "data": {
      "text/plain": [
       "'open_fire'"
      ]
     },
     "execution_count": 1,
     "metadata": {},
     "output_type": "execute_result"
    }
   ],
   "source": [
    "properties = {'hyperlink': 'hyperlink', 'locality': 'locality', 'postcode': 'postcode', 'house_is': 'house_is', 'property_subtype': 'property_subtype', 'sale': 'sale', 'furnished': 'Furnished', 'open_fire': 'Fireplace', 'garden_area': 'Garden surface', 'terrace_area': 'Terrace surface', 'swimming_pool_has': 'Swimming pool', 'scrape_date': 'scrape_date', 'building_state': 'Building condition', 'facades_number': 'Facades', 'area': 'Living area', 'kitchen_has': 'Kitchen type', 'rooms_number': 'Bedrooms', 'room1_area': 'Bedroom 1 surface', 'room2_area': 'Bedroom 2 surface', 'room3_area': 'Bedroom 3 surface', 'room4_area': 'Bedroom 4 surface', 'room5_area': 'Bedroom 5 surface', 'bathrooms_number': 'Bathrooms', 'toilets_number': 'Toilets', 'basement_has': 'Basement', 'land_plot_surface': 'Surface of the plot', 'terrace': 'Terrace', 'energy_class': 'Energy class', 'heating_type': 'Heating type', 'double_glazing_has': 'Double glazing', 'price': 'Price'}\n",
    "properties_our = list(properties.keys())\n",
    "properties_immoweb = list(properties.values())\n",
    "properties_our[properties_immoweb.index(\"Fireplace\")]  "
   ]
  },
  {
   "cell_type": "code",
   "execution_count": null,
   "metadata": {},
   "outputs": [],
   "source": []
  }
 ],
 "metadata": {
  "kernelspec": {
   "display_name": "Python 3",
   "language": "python",
   "name": "python3"
  },
  "language_info": {
   "codemirror_mode": {
    "name": "ipython",
    "version": 3
   },
   "file_extension": ".py",
   "mimetype": "text/x-python",
   "name": "python",
   "nbconvert_exporter": "python",
   "pygments_lexer": "ipython3",
   "version": "3.6.9"
  }
 },
 "nbformat": 4,
 "nbformat_minor": 4
}
