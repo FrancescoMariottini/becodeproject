{
 "cells": [
  {
   "cell_type": "markdown",
   "source": [
    "# dataquality\n",
    "Dataquality (dq) is a module to automatically process three different phases of data quality management on a table:\n",
    "1. Data flagging by marking of rows showing errors through additional columns.\n",
    "1. Data description through main data information (e.g. data types) and statistical information\n",
    "1. Data cleaning by removing the rows not considered useful for the data analysis scope.\n",
    "\n",
    "Dataquality class checks the initial inputs (dataframe and requested methods) before creating the flagged and description dataframes.\n",
    "The objects created in the dataquality class are shared among the main functions:\n",
    "\n",
    "name|description|input(s)|output(s)\n",
    "---|---|---|---\n",
    "flag|flag the dataframe for errors|dataframe|flagged dataframe\n",
    "describe|provide a new description for the dataframe or recover a previous one|dataframe|dataframe description\n",
    "clean|clean the dataframe for duplicates|dataframe|cleaned dataframe\n",
    "values_format|format values based on provided dictionary|dataframe and data type per column|formatted dataframe\n",
    "\n",
    "dq relies on pandas module to perform operations on dataframes (df)"
   ],
   "metadata": {
    "collapsed": false,
    "pycharm": {
     "name": "#%% md\n"
    }
   }
  },
  {
   "cell_type": "code",
   "source": [
    "import pandas as pandas\n",
    "import re #to extract variable type as string from type class\n",
    "\n",
    "_METHODS = [\"duplicates\", \"null\"]\n",
    "\n",
    "class DataQuality:  # initialise the dq process by importing a table and setting up the main parameters\n",
    "    def __init__(self, table, methods=None):\n",
    "        if methods is None:\n",
    "            methods = _METHODS\n",
    "        if isinstance(table, pandas.DataFrame):  # import table into class as dataframe\n",
    "            self.df = table\n",
    "        elif isinstance(table, dict):  # convert dictionary into dataframe if needed\n",
    "            self.df = pandas.DataFrame(table)\n",
    "        else:\n",
    "            raise Exception(\"Provided table is neither a dictionary nor a dataframe\")\n",
    "        if all([method in _METHODS for method in methods]):\n",
    "            self.methods = methods\n",
    "        else:\n",
    "            raise Exception(\"Not all requested methods are available\")\n",
    "        self.flagged, self.description = self.__self_or_none__(dataframe=self.df)  # initialise dataframes in the class\n",
    "        count_max = max(self.description.loc[\"count\", :].values)\n",
    "        self.unique_identifiers = []\n",
    "        for column in self.df.columns:  # based on count_max the columns used to identify the duplicates are appended in a list\n",
    "            if column != self.df.columns[0] and self.description.loc[\"count\", column] >=  0.5 * count_max:\n",
    "                self.unique_identifiers.append(column)\n",
    "\n",
    "    def __self_or_none__(self, dataframe=None):  # initialise the dq dataframes or recovering previous ones\n",
    "        if not isinstance(dataframe, pandas.DataFrame):\n",
    "            flagged = self.flagged\n",
    "        elif isinstance(dataframe, pandas.DataFrame):\n",
    "            flagged = dataframe.copy(deep=True)  # Flagged df\n",
    "        description = flagged.replace(\n",
    "            {False: int(0), True: int(1), \"No\": int(0), \"Yes\": int(1), \"None\": None}).describe(\n",
    "            # T/F converted into 0/1 before calculating statistical parameters\n",
    "            include='all',\n",
    "            percentiles=[0.05, 0.5, 0.95])  # percentile 0.05 and 0.95 more relevant to identify possible outliers\n",
    "        description = description.append(self.df.dtypes.rename(\"dtypes\"),\n",
    "                                         ignore_index=False)  # column data types added to the description dataframe\n",
    "        return flagged, description\n",
    "\n",
    "    def __check_with_headers__(self, values_to_check,\n",
    "                               dataframe: pandas.DataFrame):  # check if provided list/dictionary values are in the dataframe columns\n",
    "        if isinstance(values_to_check, dict):\n",
    "            values_to_check = values_to_check.keys()\n",
    "        elif isinstance(values_to_check, list):\n",
    "            values_to_check = values_to_check\n",
    "        else:\n",
    "            raise Exception(\"Provided values(s) neither a list nor a dictionary\")\n",
    "        if any([key not in dataframe.columns for key in values_to_check]):\n",
    "            raise Exception(\"Provided values(s) not in the table headers\")\n",
    "\n",
    "    def flag(self, df=None):  # flag the dataframe for errors\n",
    "        flagged, description = self.__self_or_none__(df)\n",
    "        if \"duplicates\" in self.methods:\n",
    "            flagged[\"duplicates\"] = flagged.duplicated(\n",
    "                subset=self.unique_identifiers).replace(\n",
    "                {True: 1, False: 0})  # find duplicates based on previously defined identifiers (columns)\n",
    "        if \"null\" in self.methods:\n",
    "            flagged[\"null\"] = flagged.isnull().sum(axis=0)  # count the number of null per row\n",
    "        if df is None:\n",
    "            self.flagged = flagged\n",
    "        return flagged\n",
    "\n",
    "    def describe(self, df=None):  # provide a new description for the dataframe or recover a previous one\n",
    "        flagged, description = self.__self_or_none__(df)\n",
    "        if df is None:\n",
    "            self.description = description\n",
    "        return description\n",
    "\n",
    "    def clean(self, df=None):  # clean the dataframe for duplicates, completely empty rows removed within other modules\n",
    "        flagged, description = self.__self_or_none__(df)\n",
    "        cleaned = flagged.copy(deep=True).loc[:, description.columns]  # use only non-flagging part of the flagged df\n",
    "        if \"duplicates\" in flagged.columns:\n",
    "            id_column = flagged.columns[0]\n",
    "            unique_id = flagged.loc[flagged.duplicates == 0, id_column]  # get identifies for unique rows\n",
    "            cleaned = cleaned[cleaned[id_column].isin(unique_id)]\n",
    "        if df is None:\n",
    "            self.description = description\n",
    "        return cleaned\n",
    "\n",
    "    def values_format(self, columns_dtypes: dict, df=None,\n",
    "                      fill_empty=None):  # format values based on provided dictionary\n",
    "        if not isinstance(df, pandas.DataFrame):\n",
    "            df = self.df\n",
    "        self.__check_with_headers__(values_to_check=columns_dtypes, dataframe=df)\n",
    "\n",
    "        def dtype_change(value, column, dtype_requested):\n",
    "            if value is None or value == \"\" or value != value:  # filling null values\n",
    "                value = fill_empty\n",
    "            else:  # return ignore nan or none values as they are\n",
    "                m = re.search(\"<class '(?P<t>\\w+)'>\",\n",
    "                              str(type(value)))  # extract variable type as string from type class\n",
    "                type_current = m.group('t')\n",
    "                if type_current != dtype_requested:\n",
    "                    if isinstance(value, str):\n",
    "                        if dtype_requested == \"int\" and value.isnumeric():\n",
    "                            value = int(value)\n",
    "                        elif dtype_requested == \"float\" and value.isdecimal():\n",
    "                            value = float(value)\n",
    "                        elif dtype_requested == \"yn\":\n",
    "                            if (value == \"1\") or (value == \"True\"):\n",
    "                                value = \"Yes\"\n",
    "                            elif (value == \"0\") or (value == \"False\"):\n",
    "                                value = \"No\"\n",
    "                    elif isinstance(value, bool):\n",
    "                        if dtype_requested == \"yn\":\n",
    "                            if value:\n",
    "                                value = \"Yes\"\n",
    "                            elif not value:\n",
    "                                value = \"No\"\n",
    "                    elif isinstance(value, int) and dtype_requested == \"float\":\n",
    "                        value = float(value)\n",
    "                    elif isinstance(value, float) and dtype_requested == \"int\" and value.is_integer():\n",
    "                        value = int(value)\n",
    "                    elif dtype_requested == \"str\":\n",
    "                        value = str(value)\n",
    "                    else:\n",
    "                        raise Exception(\n",
    "                            r\"{} {} {} not converted into {}\".format(column, type_current, str(value), dtype_requested))\n",
    "            return value\n",
    "\n",
    "        for column, column_dtype in columns_dtypes.items():  # convert dataframe based on dictionary\n",
    "            df.loc[:, column] = df.loc[:, column].apply(lambda x: dtype_change(x, column, column_dtype))\n",
    "\n",
    "        df = df.fillna(value=fill_empty)  # filling empty elements\n",
    "\n",
    "        return df"
   ],
   "metadata": {
    "collapsed": false,
    "pycharm": {
     "name": "#%%\n"
    }
   },
   "execution_count": 1,
   "outputs": []
  },
  {
   "cell_type": "markdown",
   "source": [
    "## dataquality usage example\n",
    "input values"
   ],
   "metadata": {
    "collapsed": false
   }
  },
  {
   "cell_type": "code",
   "execution_count": 2,
   "outputs": [],
   "source": [
    "table =  {\"hyperlink\":[\"http\",\"htt\",\"http2\",\"htt2\",\"http\"],\n",
    "          \"type_of_property\":[\"house\",\"apartment\",\"apartment\",None],\n",
    "          \"postcode\":[\"1000\",\"1050\",\"1050\",None],\n",
    "          \"garden\":[True,False,False,None],\n",
    "          \"surface\":[1,2,2,4]}"
   ],
   "metadata": {
    "collapsed": false,
    "pycharm": {
     "name": "#%%\n"
    }
   }
  },
  {
   "cell_type": "markdown",
   "source": [
    "After creating an instance for DataQuality class, the flagged dataframe and its description (below) are created."
   ],
   "metadata": {
    "collapsed": false
   }
  },
  {
   "cell_type": "code",
   "source": [
    "dq = DataQuality(table)\n",
    "dq.description"
   ],
   "metadata": {
    "collapsed": false,
    "pycharm": {
     "name": "#%%\n"
    }
   },
   "execution_count": 3,
   "outputs": [
    {
     "ename": "ValueError",
     "evalue": "arrays must all be same length",
     "output_type": "error",
     "traceback": [
      "\u001B[1;31m---------------------------------------------------------------------------\u001B[0m",
      "\u001B[1;31mValueError\u001B[0m                                Traceback (most recent call last)",
      "\u001B[1;32m<ipython-input-3-fc7b103ffbc8>\u001B[0m in \u001B[0;36m<module>\u001B[1;34m\u001B[0m\n\u001B[1;32m----> 1\u001B[1;33m \u001B[0mdq\u001B[0m \u001B[1;33m=\u001B[0m \u001B[0mDataQuality\u001B[0m\u001B[1;33m(\u001B[0m\u001B[0mtable\u001B[0m\u001B[1;33m)\u001B[0m\u001B[1;33m\u001B[0m\u001B[1;33m\u001B[0m\u001B[0m\n\u001B[0m\u001B[0;32m      2\u001B[0m \u001B[0mdq\u001B[0m\u001B[1;33m.\u001B[0m\u001B[0mdescription\u001B[0m\u001B[1;33m\u001B[0m\u001B[1;33m\u001B[0m\u001B[0m\n\u001B[0;32m      3\u001B[0m \u001B[1;33m\u001B[0m\u001B[0m\n",
      "\u001B[1;32m<ipython-input-1-e61adb275e62>\u001B[0m in \u001B[0;36m__init__\u001B[1;34m(self, table, methods)\u001B[0m\n\u001B[0;32m     11\u001B[0m             \u001B[0mself\u001B[0m\u001B[1;33m.\u001B[0m\u001B[0mdf\u001B[0m \u001B[1;33m=\u001B[0m \u001B[0mtable\u001B[0m\u001B[1;33m\u001B[0m\u001B[1;33m\u001B[0m\u001B[0m\n\u001B[0;32m     12\u001B[0m         \u001B[1;32melif\u001B[0m \u001B[0misinstance\u001B[0m\u001B[1;33m(\u001B[0m\u001B[0mtable\u001B[0m\u001B[1;33m,\u001B[0m \u001B[0mdict\u001B[0m\u001B[1;33m)\u001B[0m\u001B[1;33m:\u001B[0m  \u001B[1;31m# convert dictionary into dataframe if needed\u001B[0m\u001B[1;33m\u001B[0m\u001B[1;33m\u001B[0m\u001B[0m\n\u001B[1;32m---> 13\u001B[1;33m             \u001B[0mself\u001B[0m\u001B[1;33m.\u001B[0m\u001B[0mdf\u001B[0m \u001B[1;33m=\u001B[0m \u001B[0mpandas\u001B[0m\u001B[1;33m.\u001B[0m\u001B[0mDataFrame\u001B[0m\u001B[1;33m(\u001B[0m\u001B[0mtable\u001B[0m\u001B[1;33m)\u001B[0m\u001B[1;33m\u001B[0m\u001B[1;33m\u001B[0m\u001B[0m\n\u001B[0m\u001B[0;32m     14\u001B[0m         \u001B[1;32melse\u001B[0m\u001B[1;33m:\u001B[0m\u001B[1;33m\u001B[0m\u001B[1;33m\u001B[0m\u001B[0m\n\u001B[0;32m     15\u001B[0m             \u001B[1;32mraise\u001B[0m \u001B[0mException\u001B[0m\u001B[1;33m(\u001B[0m\u001B[1;34m\"Provided table is neither a dictionary nor a dataframe\"\u001B[0m\u001B[1;33m)\u001B[0m\u001B[1;33m\u001B[0m\u001B[1;33m\u001B[0m\u001B[0m\n",
      "\u001B[1;32mt:\\users\\fra\\appdata\\local\\programs\\python\\python37\\lib\\site-packages\\pandas\\core\\frame.py\u001B[0m in \u001B[0;36m__init__\u001B[1;34m(self, data, index, columns, dtype, copy)\u001B[0m\n\u001B[0;32m    466\u001B[0m \u001B[1;33m\u001B[0m\u001B[0m\n\u001B[0;32m    467\u001B[0m         \u001B[1;32melif\u001B[0m \u001B[0misinstance\u001B[0m\u001B[1;33m(\u001B[0m\u001B[0mdata\u001B[0m\u001B[1;33m,\u001B[0m \u001B[0mdict\u001B[0m\u001B[1;33m)\u001B[0m\u001B[1;33m:\u001B[0m\u001B[1;33m\u001B[0m\u001B[1;33m\u001B[0m\u001B[0m\n\u001B[1;32m--> 468\u001B[1;33m             \u001B[0mmgr\u001B[0m \u001B[1;33m=\u001B[0m \u001B[0minit_dict\u001B[0m\u001B[1;33m(\u001B[0m\u001B[0mdata\u001B[0m\u001B[1;33m,\u001B[0m \u001B[0mindex\u001B[0m\u001B[1;33m,\u001B[0m \u001B[0mcolumns\u001B[0m\u001B[1;33m,\u001B[0m \u001B[0mdtype\u001B[0m\u001B[1;33m=\u001B[0m\u001B[0mdtype\u001B[0m\u001B[1;33m)\u001B[0m\u001B[1;33m\u001B[0m\u001B[1;33m\u001B[0m\u001B[0m\n\u001B[0m\u001B[0;32m    469\u001B[0m         \u001B[1;32melif\u001B[0m \u001B[0misinstance\u001B[0m\u001B[1;33m(\u001B[0m\u001B[0mdata\u001B[0m\u001B[1;33m,\u001B[0m \u001B[0mma\u001B[0m\u001B[1;33m.\u001B[0m\u001B[0mMaskedArray\u001B[0m\u001B[1;33m)\u001B[0m\u001B[1;33m:\u001B[0m\u001B[1;33m\u001B[0m\u001B[1;33m\u001B[0m\u001B[0m\n\u001B[0;32m    470\u001B[0m             \u001B[1;32mimport\u001B[0m \u001B[0mnumpy\u001B[0m\u001B[1;33m.\u001B[0m\u001B[0mma\u001B[0m\u001B[1;33m.\u001B[0m\u001B[0mmrecords\u001B[0m \u001B[1;32mas\u001B[0m \u001B[0mmrecords\u001B[0m\u001B[1;33m\u001B[0m\u001B[1;33m\u001B[0m\u001B[0m\n",
      "\u001B[1;32mt:\\users\\fra\\appdata\\local\\programs\\python\\python37\\lib\\site-packages\\pandas\\core\\internals\\construction.py\u001B[0m in \u001B[0;36minit_dict\u001B[1;34m(data, index, columns, dtype)\u001B[0m\n\u001B[0;32m    281\u001B[0m             \u001B[0marr\u001B[0m \u001B[1;32mif\u001B[0m \u001B[1;32mnot\u001B[0m \u001B[0mis_datetime64tz_dtype\u001B[0m\u001B[1;33m(\u001B[0m\u001B[0marr\u001B[0m\u001B[1;33m)\u001B[0m \u001B[1;32melse\u001B[0m \u001B[0marr\u001B[0m\u001B[1;33m.\u001B[0m\u001B[0mcopy\u001B[0m\u001B[1;33m(\u001B[0m\u001B[1;33m)\u001B[0m \u001B[1;32mfor\u001B[0m \u001B[0marr\u001B[0m \u001B[1;32min\u001B[0m \u001B[0marrays\u001B[0m\u001B[1;33m\u001B[0m\u001B[1;33m\u001B[0m\u001B[0m\n\u001B[0;32m    282\u001B[0m         ]\n\u001B[1;32m--> 283\u001B[1;33m     \u001B[1;32mreturn\u001B[0m \u001B[0marrays_to_mgr\u001B[0m\u001B[1;33m(\u001B[0m\u001B[0marrays\u001B[0m\u001B[1;33m,\u001B[0m \u001B[0mdata_names\u001B[0m\u001B[1;33m,\u001B[0m \u001B[0mindex\u001B[0m\u001B[1;33m,\u001B[0m \u001B[0mcolumns\u001B[0m\u001B[1;33m,\u001B[0m \u001B[0mdtype\u001B[0m\u001B[1;33m=\u001B[0m\u001B[0mdtype\u001B[0m\u001B[1;33m)\u001B[0m\u001B[1;33m\u001B[0m\u001B[1;33m\u001B[0m\u001B[0m\n\u001B[0m\u001B[0;32m    284\u001B[0m \u001B[1;33m\u001B[0m\u001B[0m\n\u001B[0;32m    285\u001B[0m \u001B[1;33m\u001B[0m\u001B[0m\n",
      "\u001B[1;32mt:\\users\\fra\\appdata\\local\\programs\\python\\python37\\lib\\site-packages\\pandas\\core\\internals\\construction.py\u001B[0m in \u001B[0;36marrays_to_mgr\u001B[1;34m(arrays, arr_names, index, columns, dtype, verify_integrity)\u001B[0m\n\u001B[0;32m     76\u001B[0m         \u001B[1;31m# figure out the index, if necessary\u001B[0m\u001B[1;33m\u001B[0m\u001B[1;33m\u001B[0m\u001B[1;33m\u001B[0m\u001B[0m\n\u001B[0;32m     77\u001B[0m         \u001B[1;32mif\u001B[0m \u001B[0mindex\u001B[0m \u001B[1;32mis\u001B[0m \u001B[1;32mNone\u001B[0m\u001B[1;33m:\u001B[0m\u001B[1;33m\u001B[0m\u001B[1;33m\u001B[0m\u001B[0m\n\u001B[1;32m---> 78\u001B[1;33m             \u001B[0mindex\u001B[0m \u001B[1;33m=\u001B[0m \u001B[0mextract_index\u001B[0m\u001B[1;33m(\u001B[0m\u001B[0marrays\u001B[0m\u001B[1;33m)\u001B[0m\u001B[1;33m\u001B[0m\u001B[1;33m\u001B[0m\u001B[0m\n\u001B[0m\u001B[0;32m     79\u001B[0m         \u001B[1;32melse\u001B[0m\u001B[1;33m:\u001B[0m\u001B[1;33m\u001B[0m\u001B[1;33m\u001B[0m\u001B[0m\n\u001B[0;32m     80\u001B[0m             \u001B[0mindex\u001B[0m \u001B[1;33m=\u001B[0m \u001B[0mensure_index\u001B[0m\u001B[1;33m(\u001B[0m\u001B[0mindex\u001B[0m\u001B[1;33m)\u001B[0m\u001B[1;33m\u001B[0m\u001B[1;33m\u001B[0m\u001B[0m\n",
      "\u001B[1;32mt:\\users\\fra\\appdata\\local\\programs\\python\\python37\\lib\\site-packages\\pandas\\core\\internals\\construction.py\u001B[0m in \u001B[0;36mextract_index\u001B[1;34m(data)\u001B[0m\n\u001B[0;32m    395\u001B[0m             \u001B[0mlengths\u001B[0m \u001B[1;33m=\u001B[0m \u001B[0mlist\u001B[0m\u001B[1;33m(\u001B[0m\u001B[0mset\u001B[0m\u001B[1;33m(\u001B[0m\u001B[0mraw_lengths\u001B[0m\u001B[1;33m)\u001B[0m\u001B[1;33m)\u001B[0m\u001B[1;33m\u001B[0m\u001B[1;33m\u001B[0m\u001B[0m\n\u001B[0;32m    396\u001B[0m             \u001B[1;32mif\u001B[0m \u001B[0mlen\u001B[0m\u001B[1;33m(\u001B[0m\u001B[0mlengths\u001B[0m\u001B[1;33m)\u001B[0m \u001B[1;33m>\u001B[0m \u001B[1;36m1\u001B[0m\u001B[1;33m:\u001B[0m\u001B[1;33m\u001B[0m\u001B[1;33m\u001B[0m\u001B[0m\n\u001B[1;32m--> 397\u001B[1;33m                 \u001B[1;32mraise\u001B[0m \u001B[0mValueError\u001B[0m\u001B[1;33m(\u001B[0m\u001B[1;34m\"arrays must all be same length\"\u001B[0m\u001B[1;33m)\u001B[0m\u001B[1;33m\u001B[0m\u001B[1;33m\u001B[0m\u001B[0m\n\u001B[0m\u001B[0;32m    398\u001B[0m \u001B[1;33m\u001B[0m\u001B[0m\n\u001B[0;32m    399\u001B[0m             \u001B[1;32mif\u001B[0m \u001B[0mhave_dicts\u001B[0m\u001B[1;33m:\u001B[0m\u001B[1;33m\u001B[0m\u001B[1;33m\u001B[0m\u001B[0m\n",
      "\u001B[1;31mValueError\u001B[0m: arrays must all be same length"
     ]
    }
   ]
  },
  {
   "cell_type": "markdown",
   "source": [
    "The flag function add check columns to the original dataframe."
   ],
   "metadata": {
    "collapsed": false
   }
  },
  {
   "cell_type": "code",
   "execution_count": null,
   "outputs": [],
   "source": [
    "dq.flag()"
   ],
   "metadata": {
    "collapsed": false,
    "pycharm": {
     "name": "#%%\n"
    }
   }
  },
  {
   "cell_type": "markdown",
   "source": [
    "The cleaned function remove the duplicates"
   ],
   "metadata": {
    "collapsed": false
   }
  },
  {
   "cell_type": "code",
   "execution_count": null,
   "outputs": [],
   "source": [
    "cleaned = dq.clean()"
   ],
   "metadata": {
    "collapsed": false,
    "pycharm": {
     "name": "#%%\n"
    }
   }
  },
  {
   "cell_type": "markdown",
   "source": [
    "Based on the provided values format the dataframe is converted."
   ],
   "metadata": {
    "collapsed": false
   }
  },
  {
   "cell_type": "code",
   "execution_count": null,
   "outputs": [],
   "source": [
    "_VALUES_FORMAT = {'hyperlink': 'str',\n",
    "                  'type_of_property': 'str',\n",
    "                  'postcode': 'str',\n",
    "                  'garden': 'yn',\n",
    "                  'surface':'float'}\n",
    "\n",
    "dq.values_format(df=cleaned, columns_dtypes=_VALUES_FORMAT, fill_empty=\"None\")"
   ],
   "metadata": {
    "collapsed": false,
    "pycharm": {
     "name": "#%%\n"
    }
   }
  }
 ],
 "metadata": {
  "kernelspec": {
   "display_name": "Python 3",
   "language": "python",
   "name": "python3"
  },
  "language_info": {
   "codemirror_mode": {
    "name": "ipython",
    "version": 2
   },
   "file_extension": ".py",
   "mimetype": "text/x-python",
   "name": "python",
   "nbconvert_exporter": "python",
   "pygments_lexer": "ipython2",
   "version": "2.7.6"
  }
 },
 "nbformat": 4,
 "nbformat_minor": 0
}