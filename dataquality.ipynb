{
 "cells": [
  {
   "cell_type": "markdown",
   "source": [
    "# dataquality\n",
    "Dataquality (dq) is a module to automatically process three different phases of data quality management on a table:\n",
    "1. Data flagging by marking of rows showing errors through additional columns.\n",
    "1. Data description through main data information (e.g. data types) and statistical information\n",
    "1. Data cleaning by removing the rows not considered useful for the data analysis scope.\n",
    "\n",
    "Dataquality class checks the initial inputs (dataframe and requested methods) before creating the flagged and description dataframes.\n",
    "The objects created in the dataquality class are shared among the main functions:\n",
    "\n",
    "name|description|input(s)|output(s)\n",
    "---|---|---|---\n",
    "flag|flag the dataframe for errors|dataframe|flagged dataframe\n",
    "describe|provide a new description for the dataframe or recover a previous one|dataframe|dataframe description\n",
    "clean|clean the dataframe for duplicates|dataframe|cleaned dataframe\n",
    "values_format|format values based on provided dictionary|dataframe and data type per column|formatted dataframe\n",
    "\n",
    "dq relies on pandas module to perform operations on dataframes (df)"
   ],
   "metadata": {
    "collapsed": false,
    "pycharm": {
     "name": "#%% md\n"
    }
   }
  },
  {
   "cell_type": "code",
   "source": [
    "import pandas as pandas\n",
    "import re #to extract variable type as string from type class\n",
    "\n",
    "_METHODS = [\"duplicates\", \"null\"]\n",
    "\n",
    "class DataQuality:  # initialise the dq process by importing a table and setting up the main parameters\n",
    "    def __init__(self, table, methods=None):\n",
    "        if methods is None:\n",
    "            methods = _METHODS\n",
    "        if isinstance(table, pandas.DataFrame):  # import table into class as dataframe\n",
    "            self.df = table\n",
    "        elif isinstance(table, dict):  # convert dictionary into dataframe if needed\n",
    "            self.df = pandas.DataFrame(table)\n",
    "        else:\n",
    "            raise Exception(\"Provided table is neither a dictionary nor a dataframe\")\n",
    "        if all([method in _METHODS for method in methods]):\n",
    "            self.methods = methods\n",
    "        else:\n",
    "            raise Exception(\"Not all requested methods are available\")\n",
    "        self.flagged, self.description = self.__self_or_none__(dataframe=self.df)  # initialise dataframes in the class\n",
    "        count_max = max(self.description.loc[\"count\", :].values)  # identify max number of valid values per column\n",
    "        self.unique_identifiers = []\n",
    "        for column in self.df.columns:  # based on count_max the columns used to identify the duplicates are appended in a list\n",
    "            if column != self.df.columns[0] and self.description.loc[\"count\", column] == count_max:\n",
    "                self.unique_identifiers.append(column)\n",
    "\n",
    "    def __self_or_none__(self, dataframe=None):  # initialise the dq dataframes or recovering previous ones\n",
    "        if not isinstance(dataframe, pandas.DataFrame):\n",
    "            flagged = self.flagged\n",
    "            description = self.description\n",
    "        elif isinstance(dataframe, pandas.DataFrame):\n",
    "            flagged = dataframe.copy(deep=True)  # Flagged df\n",
    "            description = flagged.replace(\n",
    "                {False: int(0), True: int(1), \"No\": int(0), \"Yes\": int(1), \"None\": None}).describe( # T/F converted into 0/1 before calculating statistical parameters\n",
    "                include='all',\n",
    "                percentiles=[0.05, 0.5, 0.95])  #percentile 0.05 and 0.95 more relevant to identify possible outliers\n",
    "            description = description.append(self.df.dtypes.rename(\"dtypes\"),\n",
    "                                             ignore_index=False)  # column data types added to the description dataframe\n",
    "        return flagged, description\n",
    "\n",
    "    def __check_with_headers__(self, values_to_check,\n",
    "                               dataframe: pandas.DataFrame):  # check if provided list/dictionary values are in the dataframe columns\n",
    "        if isinstance(values_to_check, dict):\n",
    "            values_to_check = values_to_check.keys()\n",
    "        elif isinstance(values_to_check, list):\n",
    "            values_to_check = values_to_check\n",
    "        else:\n",
    "            raise Exception(\"Provided values(s) neither a list nor a dictionary\")\n",
    "        if any([key not in dataframe.columns for key in values_to_check]):\n",
    "            raise Exception(\"Provided values(s) not in the table headers\")\n",
    "\n",
    "    def flag(self, df=None):  # flag the dataframe for errors\n",
    "        flagged, description = self.__self_or_none__(df)\n",
    "        if \"duplicates\" in self.methods:\n",
    "            flagged[\"duplicates\"] = flagged.duplicated(\n",
    "                subset=self.unique_identifiers)  # find duplicates based on previously defined identifiers (columns)\n",
    "        if \"null\" in self.methods:\n",
    "            flagged[\"null\"] = flagged.isnull().sum(axis=0)  # count the number of null per row\n",
    "        if df is None:\n",
    "            self.flagged = flagged\n",
    "        return flagged\n",
    "\n",
    "    def describe(self, df=None):  # provide a new description for the dataframe or recover a previous one\n",
    "        flagged, description = self.__self_or_none__(df)\n",
    "        if df is None:\n",
    "            self.description = description\n",
    "        return description\n",
    "\n",
    "    def clean(self, df=None):  # clean the dataframe for duplicates, completely empty rows removed within other modules\n",
    "        flagged, description = self.__self_or_none__(df)\n",
    "        cleaned = flagged.copy(deep=True).loc[:, description.columns]  # use only non-flagging part of the flagged df\n",
    "        if \"duplicates\" in flagged.columns:\n",
    "            id_column = flagged.columns[0]\n",
    "            unique_id = flagged.loc[flagged.duplicates == False, id_column]  # get identifies for unique rows\n",
    "            cleaned = cleaned[cleaned[id_column].isin(unique_id)]\n",
    "        if df is None:\n",
    "            self.description = description\n",
    "        return cleaned\n",
    "\n",
    "    def values_format(self, columns_dtypes: dict, df=None, fill_empty=None):  # format values based on provided dictionary\n",
    "        if not isinstance(df, pandas.DataFrame):\n",
    "            df = self.df\n",
    "        self.__check_with_headers__(values_to_check=columns_dtypes, dataframe=df)\n",
    "\n",
    "        def dtype_change(value, column, dtype_requested):\n",
    "            if value is None or value == \"\" or value != value:\n",
    "                value = fill_empty\n",
    "            else:  # return ignore nan or none values as they are\n",
    "                m = re.search(\"<class '(?P<t>\\w+)'>\",\n",
    "                              str(type(value)))  # extract variable type as string from type class\n",
    "                type_current = m.group('t')\n",
    "                if type_current != dtype_requested:\n",
    "                    if isinstance(value, str):\n",
    "                        if dtype_requested == \"int\" and value.isnumeric():\n",
    "                            value = int(value)\n",
    "                        elif dtype_requested == \"float\" and value.isdecimal():\n",
    "                            value = float(value)\n",
    "                        elif dtype_requested == \"yn\":\n",
    "                            if (value == \"1\") or (value == \"True\"):\n",
    "                                value = \"Yes\"\n",
    "                            elif (value == \"0\") or (value == \"False\"):\n",
    "                                value = \"No\"\n",
    "                    elif isinstance(value, bool):\n",
    "                        if dtype_requested == \"yn\":\n",
    "                            if value:\n",
    "                                value = \"Yes\"\n",
    "                            elif not value:\n",
    "                                value = \"No\"\n",
    "                    elif isinstance(value, int) and dtype_requested == \"float\":\n",
    "                        value = float(value)\n",
    "                    elif isinstance(value, float) and dtype_requested == \"int\" and value.is_integer():\n",
    "                        value = int(value)\n",
    "                    elif dtype_requested == \"str\":\n",
    "                        value = str(value)\n",
    "                    else:\n",
    "                        raise Exception(r\"{} {} {} not converted into {}\".format(column, type_current, str(value), dtype_requested))\n",
    "            return value\n",
    "\n",
    "        for column, column_dtype in columns_dtypes.items():  # convert dataframe based on dictionary\n",
    "            df.loc[:, column] = df.loc[:, column].apply(lambda x: dtype_change(x, column, column_dtype))\n",
    "\n",
    "        return df\n"
   ],
   "metadata": {
    "collapsed": false,
    "pycharm": {
     "name": "#%%\n"
    }
   },
   "execution_count": 1,
   "outputs": []
  },
  {
   "cell_type": "markdown",
   "source": [
    "## dataquality usage example\n",
    "input values"
   ],
   "metadata": {
    "collapsed": false
   }
  },
  {
   "cell_type": "code",
   "execution_count": 2,
   "outputs": [],
   "source": [
    "table =  {\"hyperlink\":[\"http\",\"htt\",\"http2\",\"htt2\"],\n",
    "          \"type_of_property\":[\"house\",\"apartment\",\"apartment\",None],\n",
    "          \"postcode\":[\"1000\",\"1050\",\"1050\",None],\n",
    "          \"garden\":[True,False,False,None],\n",
    "          \"surface\":[1,2,2,4]}"
   ],
   "metadata": {
    "collapsed": false,
    "pycharm": {
     "name": "#%%\n"
    }
   }
  },
  {
   "cell_type": "markdown",
   "source": [
    "After creating an instance for DataQuality class, the flagged dataframe and its description (below) are created."
   ],
   "metadata": {
    "collapsed": false
   }
  },
  {
   "cell_type": "code",
   "source": [
    "dq = DataQuality(table)\n",
    "dq.description"
   ],
   "metadata": {
    "collapsed": false,
    "pycharm": {
     "name": "#%%\n"
    }
   },
   "execution_count": 3,
   "outputs": [
    {
     "data": {
      "text/plain": "       hyperlink type_of_property postcode    garden  surface\ncount          4                3        3         3        4\nunique         4                2        2       NaN      NaN\ntop        http2        apartment     1050       NaN      NaN\nfreq           1                2        2       NaN      NaN\nmean         NaN              NaN      NaN  0.333333     2.25\nstd          NaN              NaN      NaN   0.57735  1.25831\nmin          NaN              NaN      NaN         0        1\n25%          NaN              NaN      NaN         0     1.75\n50%          NaN              NaN      NaN         0        2\n75%          NaN              NaN      NaN       0.5      2.5\nmax          NaN              NaN      NaN         1        4\ndtypes    object           object   object    object    int64",
      "text/html": "<div>\n<style scoped>\n    .dataframe tbody tr th:only-of-type {\n        vertical-align: middle;\n    }\n\n    .dataframe tbody tr th {\n        vertical-align: top;\n    }\n\n    .dataframe thead th {\n        text-align: right;\n    }\n</style>\n<table border=\"1\" class=\"dataframe\">\n  <thead>\n    <tr style=\"text-align: right;\">\n      <th></th>\n      <th>hyperlink</th>\n      <th>type_of_property</th>\n      <th>postcode</th>\n      <th>garden</th>\n      <th>surface</th>\n    </tr>\n  </thead>\n  <tbody>\n    <tr>\n      <th>count</th>\n      <td>4</td>\n      <td>3</td>\n      <td>3</td>\n      <td>3</td>\n      <td>4</td>\n    </tr>\n    <tr>\n      <th>unique</th>\n      <td>4</td>\n      <td>2</td>\n      <td>2</td>\n      <td>NaN</td>\n      <td>NaN</td>\n    </tr>\n    <tr>\n      <th>top</th>\n      <td>http2</td>\n      <td>apartment</td>\n      <td>1050</td>\n      <td>NaN</td>\n      <td>NaN</td>\n    </tr>\n    <tr>\n      <th>freq</th>\n      <td>1</td>\n      <td>2</td>\n      <td>2</td>\n      <td>NaN</td>\n      <td>NaN</td>\n    </tr>\n    <tr>\n      <th>mean</th>\n      <td>NaN</td>\n      <td>NaN</td>\n      <td>NaN</td>\n      <td>0.333333</td>\n      <td>2.25</td>\n    </tr>\n    <tr>\n      <th>std</th>\n      <td>NaN</td>\n      <td>NaN</td>\n      <td>NaN</td>\n      <td>0.57735</td>\n      <td>1.25831</td>\n    </tr>\n    <tr>\n      <th>min</th>\n      <td>NaN</td>\n      <td>NaN</td>\n      <td>NaN</td>\n      <td>0</td>\n      <td>1</td>\n    </tr>\n    <tr>\n      <th>25%</th>\n      <td>NaN</td>\n      <td>NaN</td>\n      <td>NaN</td>\n      <td>0</td>\n      <td>1.75</td>\n    </tr>\n    <tr>\n      <th>50%</th>\n      <td>NaN</td>\n      <td>NaN</td>\n      <td>NaN</td>\n      <td>0</td>\n      <td>2</td>\n    </tr>\n    <tr>\n      <th>75%</th>\n      <td>NaN</td>\n      <td>NaN</td>\n      <td>NaN</td>\n      <td>0.5</td>\n      <td>2.5</td>\n    </tr>\n    <tr>\n      <th>max</th>\n      <td>NaN</td>\n      <td>NaN</td>\n      <td>NaN</td>\n      <td>1</td>\n      <td>4</td>\n    </tr>\n    <tr>\n      <th>dtypes</th>\n      <td>object</td>\n      <td>object</td>\n      <td>object</td>\n      <td>object</td>\n      <td>int64</td>\n    </tr>\n  </tbody>\n</table>\n</div>"
     },
     "execution_count": 3,
     "metadata": {},
     "output_type": "execute_result"
    }
   ]
  },
  {
   "cell_type": "markdown",
   "source": [
    "The flag function add check columns to the original dataframe."
   ],
   "metadata": {
    "collapsed": false
   }
  },
  {
   "cell_type": "code",
   "execution_count": 4,
   "outputs": [
    {
     "data": {
      "text/plain": "  hyperlink type_of_property postcode garden  surface  duplicates  null\n0      http            house     1000   True        1       False   NaN\n1       htt        apartment     1050  False        2       False   NaN\n2     http2        apartment     1050  False        2        True   NaN\n3      htt2             None     None   None        4       False   NaN",
      "text/html": "<div>\n<style scoped>\n    .dataframe tbody tr th:only-of-type {\n        vertical-align: middle;\n    }\n\n    .dataframe tbody tr th {\n        vertical-align: top;\n    }\n\n    .dataframe thead th {\n        text-align: right;\n    }\n</style>\n<table border=\"1\" class=\"dataframe\">\n  <thead>\n    <tr style=\"text-align: right;\">\n      <th></th>\n      <th>hyperlink</th>\n      <th>type_of_property</th>\n      <th>postcode</th>\n      <th>garden</th>\n      <th>surface</th>\n      <th>duplicates</th>\n      <th>null</th>\n    </tr>\n  </thead>\n  <tbody>\n    <tr>\n      <th>0</th>\n      <td>http</td>\n      <td>house</td>\n      <td>1000</td>\n      <td>True</td>\n      <td>1</td>\n      <td>False</td>\n      <td>NaN</td>\n    </tr>\n    <tr>\n      <th>1</th>\n      <td>htt</td>\n      <td>apartment</td>\n      <td>1050</td>\n      <td>False</td>\n      <td>2</td>\n      <td>False</td>\n      <td>NaN</td>\n    </tr>\n    <tr>\n      <th>2</th>\n      <td>http2</td>\n      <td>apartment</td>\n      <td>1050</td>\n      <td>False</td>\n      <td>2</td>\n      <td>True</td>\n      <td>NaN</td>\n    </tr>\n    <tr>\n      <th>3</th>\n      <td>htt2</td>\n      <td>None</td>\n      <td>None</td>\n      <td>None</td>\n      <td>4</td>\n      <td>False</td>\n      <td>NaN</td>\n    </tr>\n  </tbody>\n</table>\n</div>"
     },
     "execution_count": 4,
     "metadata": {},
     "output_type": "execute_result"
    }
   ],
   "source": [
    "dq.flag()"
   ],
   "metadata": {
    "collapsed": false,
    "pycharm": {
     "name": "#%%\n"
    }
   }
  },
  {
   "cell_type": "markdown",
   "source": [
    "The cleaned function remove the duplicates"
   ],
   "metadata": {
    "collapsed": false
   }
  },
  {
   "cell_type": "code",
   "execution_count": 5,
   "outputs": [],
   "source": [
    "cleaned = dq.clean()"
   ],
   "metadata": {
    "collapsed": false,
    "pycharm": {
     "name": "#%%\n"
    }
   }
  },
  {
   "cell_type": "markdown",
   "source": [
    "Based on the provided values format the dataframe is converted."
   ],
   "metadata": {
    "collapsed": false
   }
  },
  {
   "cell_type": "code",
   "execution_count": 6,
   "outputs": [
    {
     "data": {
      "text/plain": "  hyperlink type_of_property postcode garden  surface\n0      http            house     1000    Yes      1.0\n1       htt        apartment     1050     No      2.0\n3      htt2             None     None   None      4.0",
      "text/html": "<div>\n<style scoped>\n    .dataframe tbody tr th:only-of-type {\n        vertical-align: middle;\n    }\n\n    .dataframe tbody tr th {\n        vertical-align: top;\n    }\n\n    .dataframe thead th {\n        text-align: right;\n    }\n</style>\n<table border=\"1\" class=\"dataframe\">\n  <thead>\n    <tr style=\"text-align: right;\">\n      <th></th>\n      <th>hyperlink</th>\n      <th>type_of_property</th>\n      <th>postcode</th>\n      <th>garden</th>\n      <th>surface</th>\n    </tr>\n  </thead>\n  <tbody>\n    <tr>\n      <th>0</th>\n      <td>http</td>\n      <td>house</td>\n      <td>1000</td>\n      <td>Yes</td>\n      <td>1.0</td>\n    </tr>\n    <tr>\n      <th>1</th>\n      <td>htt</td>\n      <td>apartment</td>\n      <td>1050</td>\n      <td>No</td>\n      <td>2.0</td>\n    </tr>\n    <tr>\n      <th>3</th>\n      <td>htt2</td>\n      <td>None</td>\n      <td>None</td>\n      <td>None</td>\n      <td>4.0</td>\n    </tr>\n  </tbody>\n</table>\n</div>"
     },
     "execution_count": 6,
     "metadata": {},
     "output_type": "execute_result"
    }
   ],
   "source": [
    "_VALUES_FORMAT = {'hyperlink': 'str',\n",
    "                  'type_of_property': 'str',\n",
    "                  'postcode': 'str',\n",
    "                  'garden': 'yn',\n",
    "                  'surface':'float'}\n",
    "\n",
    "dq.values_format(df=cleaned, columns_dtypes=_VALUES_FORMAT)"
   ],
   "metadata": {
    "collapsed": false,
    "pycharm": {
     "name": "#%%\n"
    }
   }
  }
 ],
 "metadata": {
  "kernelspec": {
   "display_name": "Python 3",
   "language": "python",
   "name": "python3"
  },
  "language_info": {
   "codemirror_mode": {
    "name": "ipython",
    "version": 2
   },
   "file_extension": ".py",
   "mimetype": "text/x-python",
   "name": "python",
   "nbconvert_exporter": "python",
   "pygments_lexer": "ipython2",
   "version": "2.7.6"
  }
 },
 "nbformat": 4,
 "nbformat_minor": 0
}