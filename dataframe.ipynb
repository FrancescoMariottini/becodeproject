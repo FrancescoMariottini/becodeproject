{
 "cells": [
  {
   "cell_type": "markdown",
   "source": [],
   "metadata": {
    "collapsed": false,
    "pycharm": {
     "name": "#%% md\n"
    }
   }
  },
  {
   "cell_type": "code",
   "execution_count": 3,
   "outputs": [],
   "source": [
    "import pandas as pd\n",
    "import os\n",
    "\n",
    "\n",
    "\n",
    "def makecsv(parameters:dict):\n",
    "    df = pd.DataFrame(parameters)\n",
    "    path = os.path.abspath('')\n",
    "    filepath = os.path.join(path, \"real_estate_sales.csv\")\n",
    "    df.to_csv(filepath)\n",
    "    print(\"csv created at: \" + str(filepath))\n",
    "    return df"
   ],
   "metadata": {
    "collapsed": false,
    "pycharm": {
     "name": "#%%\n"
    }
   }
  },
  {
   "cell_type": "markdown",
   "source": [
    "test"
   ],
   "metadata": {
    "collapsed": false,
    "pycharm": {
     "name": "#%% md\n"
    }
   }
  },
  {
   "cell_type": "code",
   "execution_count": 4,
   "outputs": [
    {
     "name": "stdout",
     "output_type": "stream",
     "text": [
      "csv created at: C:\\Users\\Fra\\OneDrive\\Desktop\\belearner\\challenge-collecting-data\\real_estate_sales.csv\n"
     ]
    },
    {
     "data": {
      "text/plain": "    locality garden\n0    Antwerp    yes\n1  Bruxelles     no",
      "text/html": "<div>\n<style scoped>\n    .dataframe tbody tr th:only-of-type {\n        vertical-align: middle;\n    }\n\n    .dataframe tbody tr th {\n        vertical-align: top;\n    }\n\n    .dataframe thead th {\n        text-align: right;\n    }\n</style>\n<table border=\"1\" class=\"dataframe\">\n  <thead>\n    <tr style=\"text-align: right;\">\n      <th></th>\n      <th>locality</th>\n      <th>garden</th>\n    </tr>\n  </thead>\n  <tbody>\n    <tr>\n      <th>0</th>\n      <td>Antwerp</td>\n      <td>yes</td>\n    </tr>\n    <tr>\n      <th>1</th>\n      <td>Bruxelles</td>\n      <td>no</td>\n    </tr>\n  </tbody>\n</table>\n</div>"
     },
     "execution_count": 4,
     "metadata": {},
     "output_type": "execute_result"
    }
   ],
   "source": [
    "link = []\n",
    "locality = []\n",
    "type_of_property = []\n",
    "subtype_of_property = []\n",
    "price = []\n",
    "type_of_sale = []\n",
    "number_of_rooms = []\n",
    "area = []\n",
    "fully_equipped_kitchen = []\n",
    "furnished = []\n",
    "open_fire = []\n",
    "terrace = []\n",
    "terrace_area = []\n",
    "garden = []\n",
    "garden_area = []\n",
    "surface_of_land = []\n",
    "surface_area_of_plot_land = []\n",
    "number_of_facades = []\n",
    "swimming_pool = []\n",
    "state_of_building = []\n",
    "\n",
    "locality = [\"Antwerp\",\"Bruxelles\"]\n",
    "garden = [\"yes\",\"no\"]\n",
    "parameters = {\"locality\":locality, \"garden\":garden}\n",
    "\n",
    "makecsv(parameters=parameters)"
   ],
   "metadata": {
    "collapsed": false,
    "pycharm": {
     "name": "#%%\n"
    }
   }
  }
 ],
 "metadata": {
  "kernelspec": {
   "display_name": "Python 3",
   "language": "python",
   "name": "python3"
  },
  "language_info": {
   "codemirror_mode": {
    "name": "ipython",
    "version": 2
   },
   "file_extension": ".py",
   "mimetype": "text/x-python",
   "name": "python",
   "nbconvert_exporter": "python",
   "pygments_lexer": "ipython2",
   "version": "2.7.6"
  }
 },
 "nbformat": 4,
 "nbformat_minor": 0
}