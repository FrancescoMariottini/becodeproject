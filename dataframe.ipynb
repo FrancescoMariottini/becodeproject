{
 "cells": [
  {
   "cell_type": "markdown",
   "source": [
    "## dataframecleaning(table:dict,subset=duplicates_subset)\n",
    "Transform a dictionary into a dataframe before perform quality checks on it and returning the flagged and the cleaned dataframes.\n",
    "\n",
    "parameter|description\n",
    "---|---\n",
    "table|the dictionary of lists\n",
    "subset|the subset of values to be checked for duplicates"
   ],
   "metadata": {
    "collapsed": false,
    "pycharm": {
     "name": "#%% md\n"
    }
   }
  },
  {
   "cell_type": "code",
   "execution_count": 37,
   "outputs": [],
   "source": [
    "import pandas\n",
    "\n",
    "def dataframecleaning(table:dict,subset:list):\n",
    "    dataframe = pandas.DataFrame(table)\n",
    "    duplicates_check = dataframe.duplicated(subset=subset)\n",
    "    dataframe[\"none_count\"] = dataframe.isnull().sum(axis=1)\n",
    "    dataframe[\"duplicate\"] = duplicates_check\n",
    "    dataframe_cleaned = dataframe[dataframe.duplicate==False].drop(['duplicate','none_count'], axis=1)\n",
    "    dataframe_cleaned.dropna(how='all')\n",
    "    return dataframe, dataframe_cleaned"
   ],
   "metadata": {
    "collapsed": false,
    "pycharm": {
     "name": "#%%\n"
    }
   }
  },
  {
   "cell_type": "markdown",
   "source": [
    "## makecsv (table:dict)\n",
    "Function to transform a dictionary of list into a dataframe to perform a data cleaning before creating the flagged and cleaned dataframe.\n",
    "\"os\" module used to retrieve the relative path."
   ],
   "metadata": {
    "collapsed": false,
    "pycharm": {
     "name": "#%% md\n"
    }
   }
  },
  {
   "cell_type": "code",
   "execution_count": 38,
   "outputs": [],
   "source": [
    "import os\n",
    "\n",
    "def makecsv(table:dict, subset:list, path=os.path.abspath('')):\n",
    "    flagged, cleaned = dataframecleaning(table,subset)\n",
    "    filepath = os.path.join(path, \"flagged.csv\")\n",
    "    flagged.to_csv(filepath)\n",
    "    filepath = os.path.join(path, \"cleaned.csv\")\n",
    "    cleaned.to_csv(filepath)\n",
    "    print(\"CSVs created at: \" + str(path))\n",
    "    return flagged, cleaned"
   ],
   "metadata": {
    "collapsed": false,
    "pycharm": {
     "name": "#%%\n"
    }
   }
  },
  {
   "cell_type": "markdown",
   "source": [
    "### Example\n",
    "From the dictionaries main and features, create the dataframe sample before cleaning it and write the flagged and unflagged csvs into the working folder."
   ],
   "metadata": {
    "collapsed": false,
    "pycharm": {
     "name": "#%% md\n"
    }
   }
  },
  {
   "cell_type": "code",
   "execution_count": 36,
   "outputs": [
    {
     "name": "stdout",
     "output_type": "stream",
     "text": [
      "CSVs created at: C:\\Users\\Fra\\OneDrive\\Desktop\\belearner\\challenge-collecting-data\n",
      "    link type_of_property   locality garden  none_count  duplicate\n",
      "0   http            house    Antwerp    yes           0      False\n",
      "1    htt        apartment  Bruxelles     no           0      False\n",
      "2  http2        apartment  Bruxelles     no           0       True\n",
      "3   htt2             None       None   None           3      False \n",
      "\n",
      "    link type_of_property   locality garden\n",
      "0  http            house    Antwerp    yes\n",
      "1   htt        apartment  Bruxelles     no\n",
      "3  htt2             None       None   None\n"
     ]
    }
   ],
   "source": [
    "main =  {\"link\":[\"http\",\"htt\",\"http2\",\"htt2\"],\n",
    "          \"type_of_property\":[\"house\",\"apartment\",\"apartment\",None]}\n",
    "features = {\"locality\":[\"Antwerp\",\"Bruxelles\",\"Bruxelles\",None],\n",
    "            \"garden\":[\"yes\",\"no\",\"no\",None]}\n",
    "main.update(features)\n",
    "subset = [\"type_of_property\",\"locality\",\"garden\"]\n",
    "df, df_cleaned = makecsv(table=main,subset=subset)\n",
    "\n",
    "print(\"\\n\\n\",df,\"\\n\\n\",df_cleaned)\n"
   ],
   "metadata": {
    "collapsed": false,
    "pycharm": {
     "name": "#%%\n"
    }
   }
  }
 ],
 "metadata": {
  "kernelspec": {
   "display_name": "Python 3",
   "language": "python",
   "name": "python3"
  },
  "language_info": {
   "codemirror_mode": {
    "name": "ipython",
    "version": 2
   },
   "file_extension": ".py",
   "mimetype": "text/x-python",
   "name": "python",
   "nbconvert_exporter": "python",
   "pygments_lexer": "ipython2",
   "version": "2.7.6"
  }
 },
 "nbformat": 4,
 "nbformat_minor": 0
}