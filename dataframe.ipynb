{
 "cells": [
  {
   "cell_type": "markdown",
   "source": [
    "## dataframecleaning\n",
    "Function to perform quality checks on the dataframe returning the flagged and the cleaned dataframe.\n",
    "\n",
    "## makecsv\n",
    "Function to transform a dictionary into a dataframe for further processing.\n",
    "\"os\" module used to retrieve the relative path.\n",
    "Pandas \"DataFrame\" used to create the DataFrame."
   ],
   "metadata": {
    "collapsed": false,
    "pycharm": {
     "name": "#%% md\n"
    }
   }
  },
  {
   "cell_type": "code",
   "execution_count": 25,
   "outputs": [],
   "source": [
    "import pandas as pd\n",
    "import os\n",
    "\n",
    "duplicates_subset = [\"type_of_property\",\"locality\",\"garden\"]\n",
    "\n",
    "import pandas as pd\n",
    "import os\n",
    "\n",
    "duplicates_subset = [\"type_of_property\",\"locality\",\"garden\"]\n",
    "\n",
    "def dataframecleaning(dataframe:pd.DataFrame,subset=duplicates_subset):\n",
    "    duplicates_check = dataframe.duplicated(subset=duplicates_subset)\n",
    "    dataframe[\"none_count\"] = dataframe.isnull().sum(axis=1)\n",
    "    dataframe[\"duplicate\"] = duplicates_check\n",
    "    dataframe_cleaned = dataframe[dataframe.duplicate==False].drop(['duplicate','none_count'], axis=1)\n",
    "    dataframe_cleaned.dropna(how='all')\n",
    "    return dataframe, dataframe_cleaned\n",
    "\n",
    "def makecsv(table:dict):\n",
    "    df = pd.DataFrame(table)\n",
    "    df, df_cleaned = dataframecleaning(df)\n",
    "    path = os.path.abspath('')\n",
    "    filepath = os.path.join(path, \"real_estate_sales_flagged.csv\")\n",
    "    df.to_csv(filepath)\n",
    "    filepath = os.path.join(path, \"real_estate_sales.csv\")\n",
    "    df_cleaned.to_csv(filepath)\n",
    "    print(\"csvs created at: \" + str(path))\n",
    "    return df, df_cleaned\n"
   ],
   "metadata": {
    "collapsed": false,
    "pycharm": {
     "name": "#%%\n"
    }
   }
  },
  {
   "cell_type": "markdown",
   "source": [
    "### Example\n",
    "The function makecsv accept only a single dictionary as input thus dictionaries need to be joined through update first."
   ],
   "metadata": {
    "collapsed": false,
    "pycharm": {
     "name": "#%% md\n"
    }
   }
  },
  {
   "cell_type": "code",
   "execution_count": 26,
   "outputs": [
    {
     "name": "stdout",
     "output_type": "stream",
     "text": [
      "csvs created at: C:\\Users\\Fra\\OneDrive\\Desktop\\belearner\\challenge-collecting-data\n"
     ]
    },
    {
     "data": {
      "text/plain": "    link type_of_property   locality garden  duplicate\n0   http            house    Antwerp    yes      False\n1    htt        apartment  Bruxelles     no      False\n2  http2        apartment  Bruxelles     no       True",
      "text/html": "<div>\n<style scoped>\n    .dataframe tbody tr th:only-of-type {\n        vertical-align: middle;\n    }\n\n    .dataframe tbody tr th {\n        vertical-align: top;\n    }\n\n    .dataframe thead th {\n        text-align: right;\n    }\n</style>\n<table border=\"1\" class=\"dataframe\">\n  <thead>\n    <tr style=\"text-align: right;\">\n      <th></th>\n      <th>link</th>\n      <th>type_of_property</th>\n      <th>locality</th>\n      <th>garden</th>\n      <th>duplicate</th>\n    </tr>\n  </thead>\n  <tbody>\n    <tr>\n      <th>0</th>\n      <td>http</td>\n      <td>house</td>\n      <td>Antwerp</td>\n      <td>yes</td>\n      <td>False</td>\n    </tr>\n    <tr>\n      <th>1</th>\n      <td>htt</td>\n      <td>apartment</td>\n      <td>Bruxelles</td>\n      <td>no</td>\n      <td>False</td>\n    </tr>\n    <tr>\n      <th>2</th>\n      <td>http2</td>\n      <td>apartment</td>\n      <td>Bruxelles</td>\n      <td>no</td>\n      <td>True</td>\n    </tr>\n  </tbody>\n</table>\n</div>"
     },
     "execution_count": 26,
     "metadata": {},
     "output_type": "execute_result"
    }
   ],
   "source": [
    "link = [\"http\",\"htt\",\"http2\",\"htt2\"]\n",
    "type_of_property = [\"house\",\"apartment\",\"apartment\",None]\n",
    "locality = [\"Antwerp\",\"Bruxelles\",\"Bruxelles\",None]\n",
    "garden = [\"yes\",\"no\",\"no\",None]\n",
    "\n",
    "links =  {\"link\":link,\"type_of_property\":type_of_property}\n",
    "parameters = {\"locality\":locality, \"garden\":garden}\n",
    "\n",
    "links.update(parameters)\n",
    "\n",
    "df, df_cleaned = makecsv(table=links)\n",
    "\n",
    "print(df)\n",
    "\n",
    "print(df_cleaned)"
   ],
   "metadata": {
    "collapsed": false,
    "pycharm": {
     "name": "#%%\n"
    }
   }
  }
 ],
 "metadata": {
  "kernelspec": {
   "display_name": "Python 3",
   "language": "python",
   "name": "python3"
  },
  "language_info": {
   "codemirror_mode": {
    "name": "ipython",
    "version": 2
   },
   "file_extension": ".py",
   "mimetype": "text/x-python",
   "name": "python",
   "nbconvert_exporter": "python",
   "pygments_lexer": "ipython2",
   "version": "2.7.6"
  }
 },
 "nbformat": 4,
 "nbformat_minor": 0
}