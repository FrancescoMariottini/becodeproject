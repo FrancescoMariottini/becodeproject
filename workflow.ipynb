{
 "cells": [
  {
   "cell_type": "markdown",
   "metadata": {},
   "source": [
    "# First we get a number of search results on houses and apartments from immoweb.\n",
    "## Let's get 200 of them"
   ]
  },
  {
   "cell_type": "code",
   "execution_count": 18,
   "metadata": {},
   "outputs": [
    {
     "data": {
      "text/plain": "{'https://www.immoweb.be/en/classified/house/for-sale/oupeye/4680/8955817': 1,\n 'https://www.immoweb.be/en/classified/house/for-sale/neufchateau/6840/8955815': 1,\n 'https://www.immoweb.be/en/classified/house/for-sale/souvret/6182/8955814': 1,\n 'https://www.immoweb.be/en/classified/house/for-sale/chatelet/6200/8955812': 1,\n 'https://www.immoweb.be/en/classified/house/for-sale/lembeek/1502/8898473': 1,\n 'https://www.immoweb.be/en/classified/house/for-sale/verviers/4800/8796776': 1,\n 'https://www.immoweb.be/en/classified/villa/for-sale/zomergem/9930/8955810': 1,\n 'https://www.immoweb.be/en/classified/villa/for-sale/rhode-saint-genese/1640/8955808': 1,\n 'https://www.immoweb.be/en/classified/mixed-use-building/for-sale/mouscron/7700/8955750': 1,\n 'https://www.immoweb.be/en/classified/house/for-sale/bassenge/4690/8955795': 1,\n 'https://www.immoweb.be/en/classified/house/for-sale/uccle/1180/8955794': 1,\n 'https://www.immoweb.be/en/classified/house/for-sale/chairiere/5550/8955792': 1,\n 'https://www.immoweb.be/en/classified/farmhouse/for-sale/vollezele/1570/8955791': 1,\n 'https://www.immoweb.be/en/classified/house/for-sale/heron/4217/8955790': 1,\n 'https://www.immoweb.be/en/classified/house/for-sale/liege/4000/8822599': 1,\n 'https://www.immoweb.be/en/classified/house/for-sale/dottignies/7711/8955789': 1,\n 'https://www.immoweb.be/en/classified/house/for-sale/lokeren/9160/8955788': 1,\n 'https://www.immoweb.be/en/classified/villa/for-sale/orcq/7501/7346643': 1,\n 'https://www.immoweb.be/en/classified/house/for-sale/moorslede/8890/8955784': 1,\n 'https://www.immoweb.be/en/classified/house/for-sale/nederboelare/9500/8955782': 1,\n 'https://www.immoweb.be/en/classified/mixed-use-building/for-sale/la-louviere/7100/8955778': 1,\n 'https://www.immoweb.be/en/classified/house/for-sale/seraing/4102/8955776': 1,\n 'https://www.immoweb.be/en/classified/house/for-sale/kortrijk/8511/8955775': 1,\n 'https://www.immoweb.be/en/classified/new-real-estate-project-houses/for-sale/knokke-heist/8300/8955730': 1,\n 'https://www.immoweb.be/en/classified/house/for-sale/st-genesius-rode/1640/8955755': 1,\n 'https://www.immoweb.be/en/classified/villa/for-sale/waterloo/1410/8955752': 1,\n 'https://www.immoweb.be/en/classified/house/for-sale/waregem/8790/8887718': 1,\n 'https://www.immoweb.be/en/classified/house/for-sale/liedekerke/1770/8955740': 1,\n 'https://www.immoweb.be/en/classified/house/for-sale/avelgem/8580/8955698': 1,\n 'https://www.immoweb.be/en/classified/house/for-sale/melle/9090/8955727': 1,\n 'https://www.immoweb.be/en/classified/apartment/for-sale/molenbeek-st-jean/1080/8955825': 0,\n 'https://www.immoweb.be/en/classified/apartment/for-sale/knokke-heist/8300/8955821': 0,\n 'https://www.immoweb.be/en/classified/apartment/for-sale/liege/4000/8955819': 0,\n 'https://www.immoweb.be/en/classified/duplex/for-sale/uccle/1180/8955807': 0,\n 'https://www.immoweb.be/en/classified/apartment/for-sale/etterbeek/1040/8955798': 0,\n 'https://www.immoweb.be/en/classified/apartment/for-sale/nijlen/2560/8955779': 0,\n 'https://www.immoweb.be/en/classified/apartment/for-sale/ixelles/1050/8951671': 0,\n 'https://www.immoweb.be/en/classified/apartment/for-sale/tienen/3300/8955787': 0,\n 'https://www.immoweb.be/en/classified/apartment/for-sale/waasmunster/9250/8955786': 0,\n 'https://www.immoweb.be/en/classified/apartment/for-sale/jette/1090/8955783': 0,\n 'https://www.immoweb.be/en/classified/new-real-estate-project-apartments/for-sale/seraing/4100/8955736': 0,\n 'https://www.immoweb.be/en/classified/apartment/for-sale/gent/9000/8955751': 0,\n 'https://www.immoweb.be/en/classified/duplex/for-sale/verviers-ensival/4800/8805168': 0,\n 'https://www.immoweb.be/en/classified/apartment/for-sale/ingooigem/8570/8955745': 0,\n 'https://www.immoweb.be/en/classified/flat-studio/for-sale/antwerp/2060/8955741': 0,\n 'https://www.immoweb.be/en/classified/apartment/for-sale/ixelles/1050/8955737': 0,\n 'https://www.immoweb.be/en/classified/apartment/for-sale/molenbeek-st-jean/1080/8955678': 0,\n 'https://www.immoweb.be/en/classified/ground-floor/for-sale/drogenbos/1620/8955713': 0,\n 'https://www.immoweb.be/en/classified/apartment/for-sale/forest/1190/8955712': 0,\n 'https://www.immoweb.be/en/classified/apartment/for-sale/haaltert/9450/8955679': 0,\n 'https://www.immoweb.be/en/classified/kot/for-sale/antwerp/2000/8955695': 0,\n 'https://www.immoweb.be/en/classified/kot/for-sale/antwerp/2000/8955693': 0,\n 'https://www.immoweb.be/en/classified/apartment/for-sale/bruxelles-12/1120/8955692': 0,\n 'https://www.immoweb.be/en/classified/apartment/for-sale/kortrijk/8500/8955680': 0,\n 'https://www.immoweb.be/en/classified/apartment/for-sale/tamines/5060/8955671': 0,\n 'https://www.immoweb.be/en/classified/apartment/for-sale/tamines/5060/8955670': 0,\n 'https://www.immoweb.be/en/classified/apartment/for-sale/tamines/5060/8955669': 0,\n 'https://www.immoweb.be/en/classified/apartment/for-sale/tamines/5060/8955668': 0,\n 'https://www.immoweb.be/en/classified/apartment/for-sale/balen/2490/8907202': 0,\n 'https://www.immoweb.be/en/classified/apartment/for-sale/brugge/8200/8955647': 0}"
     },
     "execution_count": 18,
     "metadata": {},
     "output_type": "execute_result"
    }
   ],
   "source": [
    "import get_search_results as search\n",
    "\n",
    "dict_urls = search.get_search_results(1)\n",
    "dict_urls"
   ]
  },
  {
   "cell_type": "markdown",
   "metadata": {},
   "source": [
    "# Then, we iterate through the found properties and scrape data."
   ]
  },
  {
   "cell_type": "code",
   "execution_count": 19,
   "metadata": {},
   "outputs": [],
   "source": [
    "import scrap_search_result as scrap\n",
    "\n",
    "dict_dataframe = scrap.scrap_list(dict_urls)"
   ]
  },
  {
   "cell_type": "markdown",
   "metadata": {
    "pycharm": {
     "name": "#%% md\n"
    }
   },
   "source": [
    "data quality part\n"
   ]
  },
  {
   "cell_type": "code",
   "execution_count": 20,
   "outputs": [
    {
     "ename": "KeyError",
     "evalue": "'count'",
     "output_type": "error",
     "traceback": [
      "\u001B[1;31m---------------------------------------------------------------------------\u001B[0m",
      "\u001B[1;31mKeyError\u001B[0m                                  Traceback (most recent call last)",
      "\u001B[1;32m<ipython-input-20-d179e62c7e1e>\u001B[0m in \u001B[0;36m<module>\u001B[1;34m\u001B[0m\n\u001B[0;32m     23\u001B[0m                   'swimming_pool_has': 'float'}\n\u001B[0;32m     24\u001B[0m \u001B[1;33m\u001B[0m\u001B[0m\n\u001B[1;32m---> 25\u001B[1;33m \u001B[0mdq\u001B[0m \u001B[1;33m=\u001B[0m \u001B[0mdataquality\u001B[0m\u001B[1;33m.\u001B[0m\u001B[0mDataQuality\u001B[0m\u001B[1;33m(\u001B[0m\u001B[0mdict_dataframe\u001B[0m\u001B[1;33m)\u001B[0m\u001B[1;33m\u001B[0m\u001B[1;33m\u001B[0m\u001B[0m\n\u001B[0m\u001B[0;32m     26\u001B[0m \u001B[1;33m\u001B[0m\u001B[0m\n\u001B[0;32m     27\u001B[0m \u001B[0mdf_flagged\u001B[0m\u001B[1;33m,\u001B[0m \u001B[0mdf_cleaned\u001B[0m\u001B[1;33m,\u001B[0m \u001B[0mreport\u001B[0m \u001B[1;33m=\u001B[0m \u001B[0mdq\u001B[0m\u001B[1;33m.\u001B[0m\u001B[0mdomain_integrity\u001B[0m\u001B[1;33m(\u001B[0m\u001B[0mvalues_format\u001B[0m \u001B[1;33m=\u001B[0m \u001B[0m_VALUES_FORMAT\u001B[0m\u001B[1;33m)\u001B[0m\u001B[1;33m\u001B[0m\u001B[1;33m\u001B[0m\u001B[0m\n",
      "\u001B[1;32m~\\OneDrive\\Desktop\\belearner\\challenge-collecting-data\\dataquality.py\u001B[0m in \u001B[0;36m__init__\u001B[1;34m(self, table)\u001B[0m\n\u001B[0;32m     36\u001B[0m         \u001B[0mself\u001B[0m\u001B[1;33m.\u001B[0m\u001B[0munique_identifiers\u001B[0m \u001B[1;33m=\u001B[0m \u001B[1;33m[\u001B[0m\u001B[1;33m]\u001B[0m\u001B[1;33m\u001B[0m\u001B[1;33m\u001B[0m\u001B[0m\n\u001B[0;32m     37\u001B[0m         \u001B[1;32mfor\u001B[0m \u001B[0mcolumn\u001B[0m \u001B[1;32min\u001B[0m \u001B[0mself\u001B[0m\u001B[1;33m.\u001B[0m\u001B[0mdf_flagged\u001B[0m\u001B[1;33m.\u001B[0m\u001B[0mcolumns\u001B[0m\u001B[1;33m:\u001B[0m\u001B[1;33m\u001B[0m\u001B[1;33m\u001B[0m\u001B[0m\n\u001B[1;32m---> 38\u001B[1;33m             \u001B[1;32mif\u001B[0m \u001B[0mself\u001B[0m\u001B[1;33m.\u001B[0m\u001B[0mdf_flagged\u001B[0m\u001B[1;33m.\u001B[0m\u001B[0mloc\u001B[0m\u001B[1;33m[\u001B[0m\u001B[1;34m\"count\"\u001B[0m\u001B[1;33m,\u001B[0m \u001B[0mcolumn\u001B[0m\u001B[1;33m]\u001B[0m \u001B[1;33m==\u001B[0m \u001B[0mcountmax\u001B[0m\u001B[1;33m:\u001B[0m\u001B[1;33m\u001B[0m\u001B[1;33m\u001B[0m\u001B[0m\n\u001B[0m\u001B[0;32m     39\u001B[0m                 \u001B[0mself\u001B[0m\u001B[1;33m.\u001B[0m\u001B[0munique_identifiers\u001B[0m\u001B[1;33m.\u001B[0m\u001B[0mappend\u001B[0m\u001B[1;33m(\u001B[0m\u001B[0mcolumn\u001B[0m\u001B[1;33m)\u001B[0m\u001B[1;33m\u001B[0m\u001B[1;33m\u001B[0m\u001B[0m\n\u001B[0;32m     40\u001B[0m         \u001B[0mprint\u001B[0m\u001B[1;33m(\u001B[0m\u001B[0mself\u001B[0m\u001B[1;33m.\u001B[0m\u001B[0mreport\u001B[0m\u001B[1;33m)\u001B[0m\u001B[1;33m\u001B[0m\u001B[1;33m\u001B[0m\u001B[0m\n",
      "\u001B[1;32mt:\\users\\fra\\appdata\\local\\programs\\python\\python37\\lib\\site-packages\\pandas\\core\\indexing.py\u001B[0m in \u001B[0;36m__getitem__\u001B[1;34m(self, key)\u001B[0m\n\u001B[0;32m    871\u001B[0m                     \u001B[1;31m# AttributeError for IntervalTree get_value\u001B[0m\u001B[1;33m\u001B[0m\u001B[1;33m\u001B[0m\u001B[1;33m\u001B[0m\u001B[0m\n\u001B[0;32m    872\u001B[0m                     \u001B[1;32mpass\u001B[0m\u001B[1;33m\u001B[0m\u001B[1;33m\u001B[0m\u001B[0m\n\u001B[1;32m--> 873\u001B[1;33m             \u001B[1;32mreturn\u001B[0m \u001B[0mself\u001B[0m\u001B[1;33m.\u001B[0m\u001B[0m_getitem_tuple\u001B[0m\u001B[1;33m(\u001B[0m\u001B[0mkey\u001B[0m\u001B[1;33m)\u001B[0m\u001B[1;33m\u001B[0m\u001B[1;33m\u001B[0m\u001B[0m\n\u001B[0m\u001B[0;32m    874\u001B[0m         \u001B[1;32melse\u001B[0m\u001B[1;33m:\u001B[0m\u001B[1;33m\u001B[0m\u001B[1;33m\u001B[0m\u001B[0m\n\u001B[0;32m    875\u001B[0m             \u001B[1;31m# we by definition only have the 0th axis\u001B[0m\u001B[1;33m\u001B[0m\u001B[1;33m\u001B[0m\u001B[1;33m\u001B[0m\u001B[0m\n",
      "\u001B[1;32mt:\\users\\fra\\appdata\\local\\programs\\python\\python37\\lib\\site-packages\\pandas\\core\\indexing.py\u001B[0m in \u001B[0;36m_getitem_tuple\u001B[1;34m(self, tup)\u001B[0m\n\u001B[0;32m   1042\u001B[0m     \u001B[1;32mdef\u001B[0m \u001B[0m_getitem_tuple\u001B[0m\u001B[1;33m(\u001B[0m\u001B[0mself\u001B[0m\u001B[1;33m,\u001B[0m \u001B[0mtup\u001B[0m\u001B[1;33m:\u001B[0m \u001B[0mTuple\u001B[0m\u001B[1;33m)\u001B[0m\u001B[1;33m:\u001B[0m\u001B[1;33m\u001B[0m\u001B[1;33m\u001B[0m\u001B[0m\n\u001B[0;32m   1043\u001B[0m         \u001B[1;32mtry\u001B[0m\u001B[1;33m:\u001B[0m\u001B[1;33m\u001B[0m\u001B[1;33m\u001B[0m\u001B[0m\n\u001B[1;32m-> 1044\u001B[1;33m             \u001B[1;32mreturn\u001B[0m \u001B[0mself\u001B[0m\u001B[1;33m.\u001B[0m\u001B[0m_getitem_lowerdim\u001B[0m\u001B[1;33m(\u001B[0m\u001B[0mtup\u001B[0m\u001B[1;33m)\u001B[0m\u001B[1;33m\u001B[0m\u001B[1;33m\u001B[0m\u001B[0m\n\u001B[0m\u001B[0;32m   1045\u001B[0m         \u001B[1;32mexcept\u001B[0m \u001B[0mIndexingError\u001B[0m\u001B[1;33m:\u001B[0m\u001B[1;33m\u001B[0m\u001B[1;33m\u001B[0m\u001B[0m\n\u001B[0;32m   1046\u001B[0m             \u001B[1;32mpass\u001B[0m\u001B[1;33m\u001B[0m\u001B[1;33m\u001B[0m\u001B[0m\n",
      "\u001B[1;32mt:\\users\\fra\\appdata\\local\\programs\\python\\python37\\lib\\site-packages\\pandas\\core\\indexing.py\u001B[0m in \u001B[0;36m_getitem_lowerdim\u001B[1;34m(self, tup)\u001B[0m\n\u001B[0;32m    784\u001B[0m                 \u001B[1;31m# We don't need to check for tuples here because those are\u001B[0m\u001B[1;33m\u001B[0m\u001B[1;33m\u001B[0m\u001B[1;33m\u001B[0m\u001B[0m\n\u001B[0;32m    785\u001B[0m                 \u001B[1;31m#  caught by the _is_nested_tuple_indexer check above.\u001B[0m\u001B[1;33m\u001B[0m\u001B[1;33m\u001B[0m\u001B[1;33m\u001B[0m\u001B[0m\n\u001B[1;32m--> 786\u001B[1;33m                 \u001B[0msection\u001B[0m \u001B[1;33m=\u001B[0m \u001B[0mself\u001B[0m\u001B[1;33m.\u001B[0m\u001B[0m_getitem_axis\u001B[0m\u001B[1;33m(\u001B[0m\u001B[0mkey\u001B[0m\u001B[1;33m,\u001B[0m \u001B[0maxis\u001B[0m\u001B[1;33m=\u001B[0m\u001B[0mi\u001B[0m\u001B[1;33m)\u001B[0m\u001B[1;33m\u001B[0m\u001B[1;33m\u001B[0m\u001B[0m\n\u001B[0m\u001B[0;32m    787\u001B[0m \u001B[1;33m\u001B[0m\u001B[0m\n\u001B[0;32m    788\u001B[0m                 \u001B[1;31m# We should never have a scalar section here, because\u001B[0m\u001B[1;33m\u001B[0m\u001B[1;33m\u001B[0m\u001B[1;33m\u001B[0m\u001B[0m\n",
      "\u001B[1;32mt:\\users\\fra\\appdata\\local\\programs\\python\\python37\\lib\\site-packages\\pandas\\core\\indexing.py\u001B[0m in \u001B[0;36m_getitem_axis\u001B[1;34m(self, key, axis)\u001B[0m\n\u001B[0;32m   1108\u001B[0m         \u001B[1;31m# fall thru to straight lookup\u001B[0m\u001B[1;33m\u001B[0m\u001B[1;33m\u001B[0m\u001B[1;33m\u001B[0m\u001B[0m\n\u001B[0;32m   1109\u001B[0m         \u001B[0mself\u001B[0m\u001B[1;33m.\u001B[0m\u001B[0m_validate_key\u001B[0m\u001B[1;33m(\u001B[0m\u001B[0mkey\u001B[0m\u001B[1;33m,\u001B[0m \u001B[0maxis\u001B[0m\u001B[1;33m)\u001B[0m\u001B[1;33m\u001B[0m\u001B[1;33m\u001B[0m\u001B[0m\n\u001B[1;32m-> 1110\u001B[1;33m         \u001B[1;32mreturn\u001B[0m \u001B[0mself\u001B[0m\u001B[1;33m.\u001B[0m\u001B[0m_get_label\u001B[0m\u001B[1;33m(\u001B[0m\u001B[0mkey\u001B[0m\u001B[1;33m,\u001B[0m \u001B[0maxis\u001B[0m\u001B[1;33m=\u001B[0m\u001B[0maxis\u001B[0m\u001B[1;33m)\u001B[0m\u001B[1;33m\u001B[0m\u001B[1;33m\u001B[0m\u001B[0m\n\u001B[0m\u001B[0;32m   1111\u001B[0m \u001B[1;33m\u001B[0m\u001B[0m\n\u001B[0;32m   1112\u001B[0m     \u001B[1;32mdef\u001B[0m \u001B[0m_get_slice_axis\u001B[0m\u001B[1;33m(\u001B[0m\u001B[0mself\u001B[0m\u001B[1;33m,\u001B[0m \u001B[0mslice_obj\u001B[0m\u001B[1;33m:\u001B[0m \u001B[0mslice\u001B[0m\u001B[1;33m,\u001B[0m \u001B[0maxis\u001B[0m\u001B[1;33m:\u001B[0m \u001B[0mint\u001B[0m\u001B[1;33m)\u001B[0m\u001B[1;33m:\u001B[0m\u001B[1;33m\u001B[0m\u001B[1;33m\u001B[0m\u001B[0m\n",
      "\u001B[1;32mt:\\users\\fra\\appdata\\local\\programs\\python\\python37\\lib\\site-packages\\pandas\\core\\indexing.py\u001B[0m in \u001B[0;36m_get_label\u001B[1;34m(self, label, axis)\u001B[0m\n\u001B[0;32m   1057\u001B[0m     \u001B[1;32mdef\u001B[0m \u001B[0m_get_label\u001B[0m\u001B[1;33m(\u001B[0m\u001B[0mself\u001B[0m\u001B[1;33m,\u001B[0m \u001B[0mlabel\u001B[0m\u001B[1;33m,\u001B[0m \u001B[0maxis\u001B[0m\u001B[1;33m:\u001B[0m \u001B[0mint\u001B[0m\u001B[1;33m)\u001B[0m\u001B[1;33m:\u001B[0m\u001B[1;33m\u001B[0m\u001B[1;33m\u001B[0m\u001B[0m\n\u001B[0;32m   1058\u001B[0m         \u001B[1;31m# GH#5667 this will fail if the label is not present in the axis.\u001B[0m\u001B[1;33m\u001B[0m\u001B[1;33m\u001B[0m\u001B[1;33m\u001B[0m\u001B[0m\n\u001B[1;32m-> 1059\u001B[1;33m         \u001B[1;32mreturn\u001B[0m \u001B[0mself\u001B[0m\u001B[1;33m.\u001B[0m\u001B[0mobj\u001B[0m\u001B[1;33m.\u001B[0m\u001B[0mxs\u001B[0m\u001B[1;33m(\u001B[0m\u001B[0mlabel\u001B[0m\u001B[1;33m,\u001B[0m \u001B[0maxis\u001B[0m\u001B[1;33m=\u001B[0m\u001B[0maxis\u001B[0m\u001B[1;33m)\u001B[0m\u001B[1;33m\u001B[0m\u001B[1;33m\u001B[0m\u001B[0m\n\u001B[0m\u001B[0;32m   1060\u001B[0m \u001B[1;33m\u001B[0m\u001B[0m\n\u001B[0;32m   1061\u001B[0m     \u001B[1;32mdef\u001B[0m \u001B[0m_handle_lowerdim_multi_index_axis0\u001B[0m\u001B[1;33m(\u001B[0m\u001B[0mself\u001B[0m\u001B[1;33m,\u001B[0m \u001B[0mtup\u001B[0m\u001B[1;33m:\u001B[0m \u001B[0mTuple\u001B[0m\u001B[1;33m)\u001B[0m\u001B[1;33m:\u001B[0m\u001B[1;33m\u001B[0m\u001B[1;33m\u001B[0m\u001B[0m\n",
      "\u001B[1;32mt:\\users\\fra\\appdata\\local\\programs\\python\\python37\\lib\\site-packages\\pandas\\core\\generic.py\u001B[0m in \u001B[0;36mxs\u001B[1;34m(self, key, axis, level, drop_level)\u001B[0m\n\u001B[0;32m   3486\u001B[0m             \u001B[0mloc\u001B[0m\u001B[1;33m,\u001B[0m \u001B[0mnew_index\u001B[0m \u001B[1;33m=\u001B[0m \u001B[0mself\u001B[0m\u001B[1;33m.\u001B[0m\u001B[0mindex\u001B[0m\u001B[1;33m.\u001B[0m\u001B[0mget_loc_level\u001B[0m\u001B[1;33m(\u001B[0m\u001B[0mkey\u001B[0m\u001B[1;33m,\u001B[0m \u001B[0mdrop_level\u001B[0m\u001B[1;33m=\u001B[0m\u001B[0mdrop_level\u001B[0m\u001B[1;33m)\u001B[0m\u001B[1;33m\u001B[0m\u001B[1;33m\u001B[0m\u001B[0m\n\u001B[0;32m   3487\u001B[0m         \u001B[1;32melse\u001B[0m\u001B[1;33m:\u001B[0m\u001B[1;33m\u001B[0m\u001B[1;33m\u001B[0m\u001B[0m\n\u001B[1;32m-> 3488\u001B[1;33m             \u001B[0mloc\u001B[0m \u001B[1;33m=\u001B[0m \u001B[0mself\u001B[0m\u001B[1;33m.\u001B[0m\u001B[0mindex\u001B[0m\u001B[1;33m.\u001B[0m\u001B[0mget_loc\u001B[0m\u001B[1;33m(\u001B[0m\u001B[0mkey\u001B[0m\u001B[1;33m)\u001B[0m\u001B[1;33m\u001B[0m\u001B[1;33m\u001B[0m\u001B[0m\n\u001B[0m\u001B[0;32m   3489\u001B[0m \u001B[1;33m\u001B[0m\u001B[0m\n\u001B[0;32m   3490\u001B[0m             \u001B[1;32mif\u001B[0m \u001B[0misinstance\u001B[0m\u001B[1;33m(\u001B[0m\u001B[0mloc\u001B[0m\u001B[1;33m,\u001B[0m \u001B[0mnp\u001B[0m\u001B[1;33m.\u001B[0m\u001B[0mndarray\u001B[0m\u001B[1;33m)\u001B[0m\u001B[1;33m:\u001B[0m\u001B[1;33m\u001B[0m\u001B[1;33m\u001B[0m\u001B[0m\n",
      "\u001B[1;32mt:\\users\\fra\\appdata\\local\\programs\\python\\python37\\lib\\site-packages\\pandas\\core\\indexes\\range.py\u001B[0m in \u001B[0;36mget_loc\u001B[1;34m(self, key, method, tolerance)\u001B[0m\n\u001B[0;32m    356\u001B[0m                 \u001B[1;32mexcept\u001B[0m \u001B[0mValueError\u001B[0m \u001B[1;32mas\u001B[0m \u001B[0merr\u001B[0m\u001B[1;33m:\u001B[0m\u001B[1;33m\u001B[0m\u001B[1;33m\u001B[0m\u001B[0m\n\u001B[0;32m    357\u001B[0m                     \u001B[1;32mraise\u001B[0m \u001B[0mKeyError\u001B[0m\u001B[1;33m(\u001B[0m\u001B[0mkey\u001B[0m\u001B[1;33m)\u001B[0m \u001B[1;32mfrom\u001B[0m \u001B[0merr\u001B[0m\u001B[1;33m\u001B[0m\u001B[1;33m\u001B[0m\u001B[0m\n\u001B[1;32m--> 358\u001B[1;33m             \u001B[1;32mraise\u001B[0m \u001B[0mKeyError\u001B[0m\u001B[1;33m(\u001B[0m\u001B[0mkey\u001B[0m\u001B[1;33m)\u001B[0m\u001B[1;33m\u001B[0m\u001B[1;33m\u001B[0m\u001B[0m\n\u001B[0m\u001B[0;32m    359\u001B[0m         \u001B[1;32mreturn\u001B[0m \u001B[0msuper\u001B[0m\u001B[1;33m(\u001B[0m\u001B[1;33m)\u001B[0m\u001B[1;33m.\u001B[0m\u001B[0mget_loc\u001B[0m\u001B[1;33m(\u001B[0m\u001B[0mkey\u001B[0m\u001B[1;33m,\u001B[0m \u001B[0mmethod\u001B[0m\u001B[1;33m=\u001B[0m\u001B[0mmethod\u001B[0m\u001B[1;33m,\u001B[0m \u001B[0mtolerance\u001B[0m\u001B[1;33m=\u001B[0m\u001B[0mtolerance\u001B[0m\u001B[1;33m)\u001B[0m\u001B[1;33m\u001B[0m\u001B[1;33m\u001B[0m\u001B[0m\n\u001B[0;32m    360\u001B[0m \u001B[1;33m\u001B[0m\u001B[0m\n",
      "\u001B[1;31mKeyError\u001B[0m: 'count'"
     ]
    }
   ],
   "source": [
    "import dataquality as dataquality\n",
    "import os\n",
    "\n",
    "\n",
    "_VALUES_FORMAT = {'hyperlink': 'str',\n",
    "                  'locality': 'str',\n",
    "                  'postcode': 'int',\n",
    "                  'house_is': 'yn',\n",
    "                  'property_subtype': 'str',\n",
    "                  'price': 'int',\n",
    "                  'sale': 'str',\n",
    "                  'rooms_number': 'int',\n",
    "                  'area': 'int',\n",
    "                  'kitchen_has': 'yn',\n",
    "                  'furnished': 'yn',\n",
    "                  'open_fire': 'yn',\n",
    "                  'terrace': 'yn',\n",
    "                  'terrace_area': 'int',\n",
    "                  'garden': 'yn',\n",
    "                  'garden_area': 'int',\n",
    "                  'land_surface': 'int',\n",
    "                  'land_plot_surface': 'int',\n",
    "                  'facades_number': 'int',\n",
    "                  'swimming_pool_has': 'yn'}\n",
    "\n",
    "\n",
    "def table_to_csv(table, filename: str, path=os.path.abspath('')):\n",
    "    if isinstance(table, dict):\n",
    "        table = pandas.DataFrame(table)\n",
    "    elif not isinstance(table, pandas.DataFrame):\n",
    "        raise Exception(\"Provided table is neither a dataframe nor a dictionary of lists\")\n",
    "    table.to_csv(os.path.join(path, filename + \".csv\"))\n",
    "    print(filename + \".csv\" + \" created at: \" + path)\n",
    "    return None\n",
    "\n",
    "\n",
    "urls_dict = search.get_search_results(1)\n",
    "lists_dict = scrap.scrap_list(urls_dict)\n",
    "\n",
    "# table_to_csv(dict_dataframe, \"lists\") #local testing version\n",
    "#df = pandas.read_csv(os.path.join(os.path.abspath('') + \"\\lists.csv\")) #local testing version\n",
    "#dqp = dataquality.DataQuality(df)\n",
    "\n",
    "dqp = dataquality.DataQuality(lists_dict)\n",
    "\n",
    "flagged = dqp.flag()\n",
    "table_to_csv(flagged, \"flagged\")\n",
    "\n",
    "description = dqp.describe()\n",
    "table_to_csv(description, \"description\")\n",
    "\n",
    "cleaned = dqp.clean()\n",
    "cleaned = dqp.values_format(df=cleaned, columns_dtypes=_VALUES_FORMAT)\n",
    "\n",
    "table_to_csv(cleaned, \"cleaned\")"
   ],
   "metadata": {
    "collapsed": false,
    "pycharm": {
     "name": "#%%\n"
    }
   }
  }
 ],
 "metadata": {
  "kernelspec": {
   "display_name": "Python 3",
   "language": "python",
   "name": "python3"
  },
  "language_info": {
   "codemirror_mode": {
    "name": "ipython",
    "version": 3
   },
   "file_extension": ".py",
   "mimetype": "text/x-python",
   "name": "python",
   "nbconvert_exporter": "python",
   "pygments_lexer": "ipython3",
   "version": "3.6.9"
  }
 },
 "nbformat": 4,
 "nbformat_minor": 4
}