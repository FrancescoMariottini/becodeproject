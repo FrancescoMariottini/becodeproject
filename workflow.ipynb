{
 "cells": [
  {
   "cell_type": "markdown",
   "metadata": {},
   "source": [
    "# First we get a number of search results on houses and apartments from immoweb.\n",
    "## Let's get 200 of them"
   ]
  },
  {
   "cell_type": "code",
   "execution_count": 4,
   "metadata": {},
   "outputs": [
    {
     "data": {
      "text/plain": "{'https://www.immoweb.be/en/classified/house/for-sale/st-amandsberg/9040/8957445': True,\n 'https://www.immoweb.be/en/classified/house/for-sale/lummen/3560/8957442': True,\n 'https://www.immoweb.be/en/classified/house/for-sale/laakdal-veerle/2431/8957441': True,\n 'https://www.immoweb.be/en/classified/house/for-sale/peruwelz/7600/8918039': True,\n 'https://www.immoweb.be/en/classified/house/for-sale/westerlo/2260/8957435': True,\n 'https://www.immoweb.be/en/classified/villa/for-sale/vosselaar/2350/8957434': True,\n 'https://www.immoweb.be/en/classified/exceptional-property/for-sale/zele/9240/8957413': True,\n 'https://www.immoweb.be/en/classified/house/for-sale/blankenberge/8370/8957426': True,\n 'https://www.immoweb.be/en/classified/house/for-sale/zaventem/1930/8957416': True,\n 'https://www.immoweb.be/en/classified/house/for-sale/koersel/3582/8957404': True,\n 'https://www.immoweb.be/en/classified/house/for-sale/watermael-boitsfort/1170/8957406': True,\n 'https://www.immoweb.be/en/classified/house/for-sale/neuville-en-condroz/4121/8957391': True,\n 'https://www.immoweb.be/en/classified/house/for-sale/roeselare/8800/8957399': True,\n 'https://www.immoweb.be/en/classified/house/for-sale/evergem/9940/8957398': True,\n 'https://www.immoweb.be/en/classified/villa/for-sale/uccle/1180/8957394': True,\n 'https://www.immoweb.be/en/classified/house/for-sale/jette/1090/8957390': True,\n 'https://www.immoweb.be/en/classified/house/for-sale/kaster/8572/8957379': True,\n 'https://www.immoweb.be/en/classified/house/for-sale/tamines/5060/8957377': True,\n 'https://www.immoweb.be/en/classified/house/for-sale/aartselaar/2630/8957082': True,\n 'https://www.immoweb.be/en/classified/house/for-sale/antoing/7640/8957372': True,\n 'https://www.immoweb.be/en/classified/villa/for-sale/grimbergen/1850/8957369': True,\n 'https://www.immoweb.be/en/classified/villa/for-sale/dilbeek/1700/8957363': True,\n 'https://www.immoweb.be/en/classified/house/for-sale/silly/7830/8957359': True,\n 'https://www.immoweb.be/en/classified/villa/for-sale/outrijve/8582/8957335': True,\n 'https://www.immoweb.be/en/classified/house/for-sale/semmerzake/9890/8957329': True,\n 'https://www.immoweb.be/en/classified/town-house/for-sale/roux/6044/8791031': True,\n 'https://www.immoweb.be/en/classified/house/for-sale/huy/4500/8957322': True,\n 'https://www.immoweb.be/en/classified/villa/for-sale/hennuyeres/7090/8878749': True,\n 'https://www.immoweb.be/en/classified/house/for-sale/putte/2580/8957305': True,\n 'https://www.immoweb.be/en/classified/country-cottage/for-sale/pepingen/1670/8957303': True,\n 'https://www.immoweb.be/en/classified/apartment/for-sale/neu-moresnet/4721/8922270': False,\n 'https://www.immoweb.be/en/classified/apartment/for-sale/kasterlee/2460/8957429': False,\n 'https://www.immoweb.be/en/classified/apartment/for-sale/jette/1090/8957433': False,\n 'https://www.immoweb.be/en/classified/apartment/for-sale/auderghem/1160/8957430': False,\n 'https://www.immoweb.be/en/classified/apartment/for-sale/brussels-city/1000/8957427': False,\n 'https://www.immoweb.be/en/classified/apartment/for-sale/londerzeel/1840/8923583': False,\n 'https://www.immoweb.be/en/classified/apartment/for-sale/ixelles/1050/8957410': False,\n 'https://www.immoweb.be/en/classified/apartment/for-sale/ixelles/1050/8957415': False,\n 'https://www.immoweb.be/en/classified/apartment/for-sale/uccle/1180/8957414': False,\n 'https://www.immoweb.be/en/classified/triplex/for-sale/uccle/1180/8957412': False,\n 'https://www.immoweb.be/en/classified/duplex/for-sale/ixelles/1050/8957393': False,\n 'https://www.immoweb.be/en/classified/apartment/for-sale/uccle/1180/8919729': False,\n 'https://www.immoweb.be/en/classified/ground-floor/for-sale/ixelles/1050/8957388': False,\n 'https://www.immoweb.be/en/classified/apartment/for-sale/brugge/8380/8957385': False,\n 'https://www.immoweb.be/en/classified/apartment/for-sale/bruxelles/1130/8957374': False,\n 'https://www.immoweb.be/en/classified/penthouse/for-sale/knokke-heist/8300/8957373': False,\n 'https://www.immoweb.be/en/classified/duplex/for-sale/brussels-city/1000/8957370': False,\n 'https://www.immoweb.be/en/classified/loft/for-sale/verviers/4800/8917798': False,\n 'https://www.immoweb.be/en/classified/apartment/for-sale/evere/1140/8957367': False,\n 'https://www.immoweb.be/en/classified/apartment/for-sale/liege/4020/8842134': False,\n 'https://www.immoweb.be/en/classified/apartment/for-sale/houthalen-helchteren/3530/8957350': False,\n 'https://www.immoweb.be/en/classified/apartment/for-sale/houthalen-helchteren/3530/8957349': False,\n 'https://www.immoweb.be/en/classified/apartment/for-sale/houthalen-helchteren/3530/8957348': False,\n 'https://www.immoweb.be/en/classified/apartment/for-sale/houthalen-helchteren/3530/8957347': False,\n 'https://www.immoweb.be/en/classified/apartment/for-sale/houthalen-helchteren/3530/8957346': False,\n 'https://www.immoweb.be/en/classified/apartment/for-sale/oostduinkerke/8670/8957328': False,\n 'https://www.immoweb.be/en/classified/apartment/for-sale/berchem/2600/8858926': False,\n 'https://www.immoweb.be/en/classified/apartment/for-sale/koksijde/8670/8957326': False,\n 'https://www.immoweb.be/en/classified/penthouse/for-sale/flemalle-haute/4400/8957324': False}"
     },
     "execution_count": 4,
     "metadata": {},
     "output_type": "execute_result"
    }
   ],
   "source": [
    "import get_search_results as search\n",
    "\n",
    "dict_urls = search.get_search_results(1)\n",
    "dict_urls"
   ]
  },
  {
   "cell_type": "markdown",
   "metadata": {},
   "source": [
    "# Then, we iterate through the found properties and scrape data."
   ]
  },
  {
   "cell_type": "code",
   "execution_count": 5,
   "metadata": {},
   "outputs": [],
   "source": [
    "import scrap_search_result as scrap\n",
    "\n",
    "dict_dataframe = scrap.scrap_list(dict_urls)"
   ]
  },
  {
   "cell_type": "markdown",
   "metadata": {
    "pycharm": {
     "name": "#%% md\n"
    }
   },
   "source": [
    "data quality part\n"
   ]
  },
  {
   "cell_type": "code",
   "execution_count": 6,
   "outputs": [
    {
     "ename": "NameError",
     "evalue": "name 'pandas' is not defined",
     "output_type": "error",
     "traceback": [
      "\u001B[1;31m---------------------------------------------------------------------------\u001B[0m",
      "\u001B[1;31mNameError\u001B[0m                                 Traceback (most recent call last)",
      "\u001B[1;32m<ipython-input-6-83e139ce40ad>\u001B[0m in \u001B[0;36m<module>\u001B[1;34m\u001B[0m\n\u001B[0;32m     43\u001B[0m \u001B[1;33m\u001B[0m\u001B[0m\n\u001B[0;32m     44\u001B[0m \u001B[0mflagged\u001B[0m \u001B[1;33m=\u001B[0m \u001B[0mdq\u001B[0m\u001B[1;33m.\u001B[0m\u001B[0mflag\u001B[0m\u001B[1;33m(\u001B[0m\u001B[1;33m)\u001B[0m\u001B[1;33m\u001B[0m\u001B[1;33m\u001B[0m\u001B[0m\n\u001B[1;32m---> 45\u001B[1;33m \u001B[0mtable_to_csv\u001B[0m\u001B[1;33m(\u001B[0m\u001B[0mflagged\u001B[0m\u001B[1;33m,\u001B[0m \u001B[1;34m\"flagged\"\u001B[0m\u001B[1;33m)\u001B[0m\u001B[1;33m\u001B[0m\u001B[1;33m\u001B[0m\u001B[0m\n\u001B[0m\u001B[0;32m     46\u001B[0m \u001B[1;33m\u001B[0m\u001B[0m\n\u001B[0;32m     47\u001B[0m \u001B[0mdescription\u001B[0m \u001B[1;33m=\u001B[0m \u001B[0mdq\u001B[0m\u001B[1;33m.\u001B[0m\u001B[0mdescribe\u001B[0m\u001B[1;33m(\u001B[0m\u001B[1;33m)\u001B[0m\u001B[1;33m\u001B[0m\u001B[1;33m\u001B[0m\u001B[0m\n",
      "\u001B[1;32m<ipython-input-6-83e139ce40ad>\u001B[0m in \u001B[0;36mtable_to_csv\u001B[1;34m(table, filename, path)\u001B[0m\n\u001B[0;32m     28\u001B[0m     \u001B[1;32mif\u001B[0m \u001B[0misinstance\u001B[0m\u001B[1;33m(\u001B[0m\u001B[0mtable\u001B[0m\u001B[1;33m,\u001B[0m \u001B[0mdict\u001B[0m\u001B[1;33m)\u001B[0m\u001B[1;33m:\u001B[0m\u001B[1;33m\u001B[0m\u001B[1;33m\u001B[0m\u001B[0m\n\u001B[0;32m     29\u001B[0m         \u001B[0mtable\u001B[0m \u001B[1;33m=\u001B[0m \u001B[0mpandas\u001B[0m\u001B[1;33m.\u001B[0m\u001B[0mDataFrame\u001B[0m\u001B[1;33m(\u001B[0m\u001B[0mtable\u001B[0m\u001B[1;33m)\u001B[0m\u001B[1;33m\u001B[0m\u001B[1;33m\u001B[0m\u001B[0m\n\u001B[1;32m---> 30\u001B[1;33m     \u001B[1;32melif\u001B[0m \u001B[1;32mnot\u001B[0m \u001B[0misinstance\u001B[0m\u001B[1;33m(\u001B[0m\u001B[0mtable\u001B[0m\u001B[1;33m,\u001B[0m \u001B[0mpandas\u001B[0m\u001B[1;33m.\u001B[0m\u001B[0mDataFrame\u001B[0m\u001B[1;33m)\u001B[0m\u001B[1;33m:\u001B[0m\u001B[1;33m\u001B[0m\u001B[1;33m\u001B[0m\u001B[0m\n\u001B[0m\u001B[0;32m     31\u001B[0m         \u001B[1;32mraise\u001B[0m \u001B[0mException\u001B[0m\u001B[1;33m(\u001B[0m\u001B[1;34m\"Provided table is neither a dataframe nor a dictionary of lists\"\u001B[0m\u001B[1;33m)\u001B[0m\u001B[1;33m\u001B[0m\u001B[1;33m\u001B[0m\u001B[0m\n\u001B[0;32m     32\u001B[0m     \u001B[0mtable\u001B[0m\u001B[1;33m.\u001B[0m\u001B[0mto_csv\u001B[0m\u001B[1;33m(\u001B[0m\u001B[0mos\u001B[0m\u001B[1;33m.\u001B[0m\u001B[0mpath\u001B[0m\u001B[1;33m.\u001B[0m\u001B[0mjoin\u001B[0m\u001B[1;33m(\u001B[0m\u001B[0mpath\u001B[0m\u001B[1;33m,\u001B[0m \u001B[0mfilename\u001B[0m \u001B[1;33m+\u001B[0m \u001B[1;34m\".csv\"\u001B[0m\u001B[1;33m)\u001B[0m\u001B[1;33m)\u001B[0m\u001B[1;33m\u001B[0m\u001B[1;33m\u001B[0m\u001B[0m\n",
      "\u001B[1;31mNameError\u001B[0m: name 'pandas' is not defined"
     ]
    }
   ],
   "source": [
    "import dataquality as dataquality\n",
    "import os\n",
    "\n",
    "\n",
    "_VALUES_FORMAT = {'hyperlink': 'str',\n",
    "                  'locality': 'str',\n",
    "                  'postcode': 'int',\n",
    "                  'house_is': 'yn',\n",
    "                  'property_subtype': 'str',\n",
    "                  'price': 'int',\n",
    "                  'sale': 'str',\n",
    "                  'rooms_number': 'int',\n",
    "                  'area': 'int',\n",
    "                  'kitchen_has': 'yn',\n",
    "                  'furnished': 'yn',\n",
    "                  'open_fire': 'yn',\n",
    "                  'terrace': 'yn',\n",
    "                  'terrace_area': 'int',\n",
    "                  'garden': 'yn',\n",
    "                  'garden_area': 'int',\n",
    "                  'land_surface': 'int',\n",
    "                  'land_plot_surface': 'int',\n",
    "                  'facades_number': 'int',\n",
    "                  'swimming_pool_has': 'yn'}\n",
    "\n",
    "\n",
    "def table_to_csv(table, filename: str, path=os.path.abspath('')):\n",
    "    if isinstance(table, dict):\n",
    "        table = pandas.DataFrame(table)\n",
    "    elif not isinstance(table, pandas.DataFrame):\n",
    "        raise Exception(\"Provided table is neither a dataframe nor a dictionary of lists\")\n",
    "    table.to_csv(os.path.join(path, filename + \".csv\"))\n",
    "    print(filename + \".csv\" + \" created at: \" + path)\n",
    "    return None\n",
    "\n",
    "\n",
    "urls_dict = search.get_search_results(1)\n",
    "lists_dict = scrap.scrap_list(urls_dict)\n",
    "dq = dataquality.DataQuality(lists_dict)\n",
    "\n",
    "#df = pandas.read_csv(os.path.join(os.path.abspath('') + \"\\lists.csv\")) #local testing version\n",
    "#dq = dataquality.DataQuality(df)\n",
    "\n",
    "flagged = dq.flag()\n",
    "table_to_csv(flagged, \"flagged\")\n",
    "\n",
    "description = dq.describe()\n",
    "table_to_csv(description, \"description\")\n",
    "\n",
    "cleaned = dq.clean()\n",
    "cleaned = dq.values_format(df=cleaned, columns_dtypes=_VALUES_FORMAT)\n",
    "\n",
    "table_to_csv(cleaned, \"cleaned\")"
   ],
   "metadata": {
    "collapsed": false,
    "pycharm": {
     "name": "#%%\n"
    }
   }
  }
 ],
 "metadata": {
  "kernelspec": {
   "display_name": "Python 3",
   "language": "python",
   "name": "python3"
  },
  "language_info": {
   "codemirror_mode": {
    "name": "ipython",
    "version": 3
   },
   "file_extension": ".py",
   "mimetype": "text/x-python",
   "name": "python",
   "nbconvert_exporter": "python",
   "pygments_lexer": "ipython3",
   "version": "3.6.9"
  }
 },
 "nbformat": 4,
 "nbformat_minor": 4
}