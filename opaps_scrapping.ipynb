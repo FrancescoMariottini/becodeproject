{
 "metadata": {
  "language_info": {
   "codemirror_mode": {
    "name": "ipython",
    "version": 3
   },
   "file_extension": ".py",
   "mimetype": "text/x-python",
   "name": "python",
   "nbconvert_exporter": "python",
   "pygments_lexer": "ipython3",
   "version": "3.8.3-final"
  },
  "orig_nbformat": 2,
  "kernelspec": {
   "name": "python_defaultSpec_1600854285489",
   "display_name": "Python 3.8.3 64-bit ('base': conda)"
  }
 },
 "nbformat": 4,
 "nbformat_minor": 2,
 "cells": [
  {
   "cell_type": "code",
   "execution_count": 9,
   "metadata": {
    "tags": []
   },
   "outputs": [
    {
     "output_type": "stream",
     "name": "stdout",
     "text": "#main-content\nhttps://www.immoweb.be/en/search/house-and-apartment/for-sale/antwerp/province\nhttps://www.immoweb.be/en/search/house-and-apartment/for-sale/brussels/province\nhttps://www.immoweb.be/en/search/house-and-apartment/for-sale/east-flanders/province\nhttps://www.immoweb.be/en/search/house-and-apartment/for-sale/flemish-brabant/province\nhttps://www.immoweb.be/en/search/house-and-apartment/for-sale/hainaut/province\nhttps://www.immoweb.be/en/search/house-and-apartment/for-sale/liege/province\nhttps://www.immoweb.be/en/search/house-and-apartment/for-sale/limburg/province\nhttps://www.immoweb.be/en/search/house-and-apartment/for-sale/luxembourg/province\nhttps://www.immoweb.be/en/search/house-and-apartment/for-sale/namur/province\nhttps://www.immoweb.be/en/search/house-and-apartment/for-sale/walloon-brabant/province\nhttps://www.immoweb.be/en/search/house-and-apartment/for-sale/west-flanders/province\nhttps://www.immoweb.be/en/search/villa/for-sale\nhttps://www.immoweb.be/en/search/apartment-block/for-sale\nhttps://www.immoweb.be/en/search/town-house/for-sale\nhttps://www.immoweb.be/en/search/mansion/for-sale\nhttps://www.immoweb.be/en/search/exceptional-property/for-sale\nhttps://www.immoweb.be/en/search/farmhouse/for-sale\nhttps://www.immoweb.be/en/search/bungalow/for-sale\nhttps://www.immoweb.be/en/search/chalet/for-sale\nhttps://www.immoweb.be/en/search/castle/for-sale\nhttps://www.immoweb.be/en/search/country-cottage/for-sale\nhttps://www.immoweb.be/en/search/mixed-use-building/for-sale\nhttps://www.immoweb.be/en/search/other-properties/for-sale\nhttps://www.immoweb.be/en/search/country-house/for-sale\nhttps://www.immoweb.be/en/search/pavilion/for-sale\nhttps://www.immoweb.be/en/search/loft/for-sale\nhttps://www.immoweb.be/en/search/duplex/for-sale\nhttps://www.immoweb.be/en/search/kot/for-sale\nhttps://www.immoweb.be/en/search/penthouse/for-sale\nhttps://www.immoweb.be/en/search/triplex/for-sale\nhttps://www.immoweb.be/en/search/studio/for-sale\nhttps://www.immoweb.be/en/search/ground-floor/for-sale\nhttps://www.immoweb.be/en/search/service-flat/for-sale\nhttps://www.immoweb.be/en/page/about-immoweb\nhttps://www.immoweb.be/en/page/the-immoweb-newsroom\nhttps://www.linkedin.com/company/immoweb/jobs/\nhttps://www.axelspringer.com/en/?utm_source=website&utm_medium=referral&utm_campaign=footer&utm_content=en\nhttps://valuation.immoweb.be/real-estate-estimate/seg1?utm_source=website&utm_medium=referral&utm_campaign=menu\nhttps://www.constructr.be/en?utm_source=website&utm_medium=referral&utm_campaign=footer\nhttps://www.immoweb.be/en/credit-application?icid_to=mortgage&icid_cta=footer\nhttps://protect.immoweb.be/tenant-home-insurance/landing?utm_source=website&utm_medium=referral&utm_campaign=footer\nhttps://www.immoweb.be/en/frequently-asked-questions\nhttps://www.immoweb.be/en/page/fraud\nhttps://www.immoweb.be/en/page/accessibility\nhttps://www.immoweb.be/en/page/contact-us\nhttps://www.facebook.com/immoweb\nhttps://twitter.com/immoweb\nhttps://www.linkedin.com/company/immoweb\nhttps://www.immoweb.be/en/page/terms-of-use\n#uc-corner-modal-show\nhttps://www.immoweb.be/en/page/privacy\nhttps://www.cim.be/fr/internet/disclaimer-cim-internet\n"
    }
   ],
   "source": [
    "from bs4 import BeautifulSoup\n",
    "import requests\n",
    "\n",
    "url_list = []\n",
    "for i in range(1, 2):\n",
    "    url=f'https://www.immoweb.be/en/search/house-and-apartment/for-sale?countries=BE&isALifeAnnuitySale=false&page={i}&orderBy=newest'\n",
    "    r = requests.get(url)\n",
    "    soup = BeautifulSoup(r.content,'html.parser')\n",
    "    for elem in soup.find_all('a'):                     \n",
    "        print(elem.get('href'))"
   ]
  },
  {
   "cell_type": "code",
   "execution_count": null,
   "metadata": {},
   "outputs": [],
   "source": []
  }
 ]
}